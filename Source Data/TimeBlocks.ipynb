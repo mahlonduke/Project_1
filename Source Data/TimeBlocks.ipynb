{
 "cells": [
  {
   "cell_type": "markdown",
   "metadata": {},
   "source": [
    "# Time Block vs Crime Rate\n",
    "----"
   ]
  },
  {
   "cell_type": "code",
   "execution_count": 158,
   "metadata": {},
   "outputs": [],
   "source": [
    "# Dependencies\n",
    "import pandas as pd\n",
    "import numpy as np\n",
    "import matplotlib.pyplot as plt"
   ]
  },
  {
   "cell_type": "markdown",
   "metadata": {},
   "source": [
    "# 2003-2007 Time Block"
   ]
  },
  {
   "cell_type": "code",
   "execution_count": 159,
   "metadata": {
    "scrolled": false
   },
   "outputs": [
    {
     "data": {
      "text/html": [
       "<div>\n",
       "<style scoped>\n",
       "    .dataframe tbody tr th:only-of-type {\n",
       "        vertical-align: middle;\n",
       "    }\n",
       "\n",
       "    .dataframe tbody tr th {\n",
       "        vertical-align: top;\n",
       "    }\n",
       "\n",
       "    .dataframe thead th {\n",
       "        text-align: right;\n",
       "    }\n",
       "</style>\n",
       "<table border=\"1\" class=\"dataframe\">\n",
       "  <thead>\n",
       "    <tr style=\"text-align: right;\">\n",
       "      <th></th>\n",
       "      <th>Incident ID</th>\n",
       "      <th>Category</th>\n",
       "      <th>Description</th>\n",
       "      <th>Day</th>\n",
       "      <th>Time</th>\n",
       "      <th>District</th>\n",
       "      <th>Longitude</th>\n",
       "      <th>Latitude</th>\n",
       "      <th>Year</th>\n",
       "      <th>Time Group</th>\n",
       "    </tr>\n",
       "  </thead>\n",
       "  <tbody>\n",
       "    <tr>\n",
       "      <th>0</th>\n",
       "      <td>91192460</td>\n",
       "      <td>FORGERY/COUNTERFEITING</td>\n",
       "      <td>COUNTERFEITING, COINS OR NOTES</td>\n",
       "      <td>Monday</td>\n",
       "      <td>2359</td>\n",
       "      <td>INGLESIDE</td>\n",
       "      <td>-122.409528</td>\n",
       "      <td>37.744432</td>\n",
       "      <td>2007</td>\n",
       "      <td>After Hours</td>\n",
       "    </tr>\n",
       "    <tr>\n",
       "      <th>1</th>\n",
       "      <td>80000177</td>\n",
       "      <td>WEAPON LAWS</td>\n",
       "      <td>POSS OF LOADED FIREARM</td>\n",
       "      <td>Monday</td>\n",
       "      <td>2358</td>\n",
       "      <td>CENTRAL</td>\n",
       "      <td>-122.396305</td>\n",
       "      <td>37.793257</td>\n",
       "      <td>2007</td>\n",
       "      <td>After Hours</td>\n",
       "    </tr>\n",
       "    <tr>\n",
       "      <th>2</th>\n",
       "      <td>80000058</td>\n",
       "      <td>WARRANTS</td>\n",
       "      <td>ENROUTE TO OUTSIDE JURISDICTION</td>\n",
       "      <td>Monday</td>\n",
       "      <td>2355</td>\n",
       "      <td>CENTRAL</td>\n",
       "      <td>-122.404260</td>\n",
       "      <td>37.798116</td>\n",
       "      <td>2007</td>\n",
       "      <td>After Hours</td>\n",
       "    </tr>\n",
       "    <tr>\n",
       "      <th>3</th>\n",
       "      <td>80000111</td>\n",
       "      <td>ASSAULT</td>\n",
       "      <td>BATTERY OF A POLICE OFFICER</td>\n",
       "      <td>Monday</td>\n",
       "      <td>2355</td>\n",
       "      <td>MISSION</td>\n",
       "      <td>-122.412351</td>\n",
       "      <td>37.757431</td>\n",
       "      <td>2007</td>\n",
       "      <td>After Hours</td>\n",
       "    </tr>\n",
       "    <tr>\n",
       "      <th>4</th>\n",
       "      <td>80000111</td>\n",
       "      <td>OTHER OFFENSES</td>\n",
       "      <td>CONSPIRACY</td>\n",
       "      <td>Monday</td>\n",
       "      <td>2355</td>\n",
       "      <td>MISSION</td>\n",
       "      <td>-122.412351</td>\n",
       "      <td>37.757431</td>\n",
       "      <td>2007</td>\n",
       "      <td>After Hours</td>\n",
       "    </tr>\n",
       "  </tbody>\n",
       "</table>\n",
       "</div>"
      ],
      "text/plain": [
       "   Incident ID                Category                      Description  \\\n",
       "0     91192460  FORGERY/COUNTERFEITING   COUNTERFEITING, COINS OR NOTES   \n",
       "1     80000177             WEAPON LAWS           POSS OF LOADED FIREARM   \n",
       "2     80000058                WARRANTS  ENROUTE TO OUTSIDE JURISDICTION   \n",
       "3     80000111                 ASSAULT      BATTERY OF A POLICE OFFICER   \n",
       "4     80000111          OTHER OFFENSES                       CONSPIRACY   \n",
       "\n",
       "      Day  Time   District   Longitude   Latitude  Year   Time Group  \n",
       "0  Monday  2359  INGLESIDE -122.409528  37.744432  2007  After Hours  \n",
       "1  Monday  2358    CENTRAL -122.396305  37.793257  2007  After Hours  \n",
       "2  Monday  2355    CENTRAL -122.404260  37.798116  2007  After Hours  \n",
       "3  Monday  2355    MISSION -122.412351  37.757431  2007  After Hours  \n",
       "4  Monday  2355    MISSION -122.412351  37.757431  2007  After Hours  "
      ]
     },
     "execution_count": 159,
     "metadata": {},
     "output_type": "execute_result"
    }
   ],
   "source": [
    "# Load CSV for crime 2003-2007\n",
    "crimeTG2003_2007 = pd.read_csv(\"Source CSVs/Crime2003-2007_with_timeblocks.csv\")\n",
    "# Drop unnamed columns\n",
    "crimeTG2003_2007 = crimeTG2003_2007.loc[:, ~crimeTG2003_2007.columns.str.contains('^Unnamed')]\n",
    "crimeTG2003_2007.head()"
   ]
  },
  {
   "cell_type": "code",
   "execution_count": 160,
   "metadata": {
    "scrolled": false
   },
   "outputs": [
    {
     "data": {
      "text/html": [
       "<div>\n",
       "<style scoped>\n",
       "    .dataframe tbody tr th:only-of-type {\n",
       "        vertical-align: middle;\n",
       "    }\n",
       "\n",
       "    .dataframe tbody tr th {\n",
       "        vertical-align: top;\n",
       "    }\n",
       "\n",
       "    .dataframe thead th {\n",
       "        text-align: right;\n",
       "    }\n",
       "</style>\n",
       "<table border=\"1\" class=\"dataframe\">\n",
       "  <thead>\n",
       "    <tr style=\"text-align: right;\">\n",
       "      <th></th>\n",
       "      <th>Category</th>\n",
       "      <th>Description</th>\n",
       "      <th>Year</th>\n",
       "      <th>Time Group</th>\n",
       "    </tr>\n",
       "  </thead>\n",
       "  <tbody>\n",
       "    <tr>\n",
       "      <th>0</th>\n",
       "      <td>FORGERY/COUNTERFEITING</td>\n",
       "      <td>COUNTERFEITING, COINS OR NOTES</td>\n",
       "      <td>2007</td>\n",
       "      <td>After Hours</td>\n",
       "    </tr>\n",
       "    <tr>\n",
       "      <th>1</th>\n",
       "      <td>WEAPON LAWS</td>\n",
       "      <td>POSS OF LOADED FIREARM</td>\n",
       "      <td>2007</td>\n",
       "      <td>After Hours</td>\n",
       "    </tr>\n",
       "    <tr>\n",
       "      <th>2</th>\n",
       "      <td>WARRANTS</td>\n",
       "      <td>ENROUTE TO OUTSIDE JURISDICTION</td>\n",
       "      <td>2007</td>\n",
       "      <td>After Hours</td>\n",
       "    </tr>\n",
       "    <tr>\n",
       "      <th>3</th>\n",
       "      <td>ASSAULT</td>\n",
       "      <td>BATTERY OF A POLICE OFFICER</td>\n",
       "      <td>2007</td>\n",
       "      <td>After Hours</td>\n",
       "    </tr>\n",
       "    <tr>\n",
       "      <th>4</th>\n",
       "      <td>OTHER OFFENSES</td>\n",
       "      <td>CONSPIRACY</td>\n",
       "      <td>2007</td>\n",
       "      <td>After Hours</td>\n",
       "    </tr>\n",
       "  </tbody>\n",
       "</table>\n",
       "</div>"
      ],
      "text/plain": [
       "                 Category                      Description  Year   Time Group\n",
       "0  FORGERY/COUNTERFEITING   COUNTERFEITING, COINS OR NOTES  2007  After Hours\n",
       "1             WEAPON LAWS           POSS OF LOADED FIREARM  2007  After Hours\n",
       "2                WARRANTS  ENROUTE TO OUTSIDE JURISDICTION  2007  After Hours\n",
       "3                 ASSAULT      BATTERY OF A POLICE OFFICER  2007  After Hours\n",
       "4          OTHER OFFENSES                       CONSPIRACY  2007  After Hours"
      ]
     },
     "execution_count": 160,
     "metadata": {},
     "output_type": "execute_result"
    }
   ],
   "source": [
    "# Drop unwanted colums for analysis\n",
    "newCrimeTG2003_2007 = crimeTG2003_2007.drop(columns =['Incident ID', 'Day', 'Time', 'District', 'Longitude', 'Latitude'])\n",
    "newCrimeTG2003_2007.head()"
   ]
  },
  {
   "cell_type": "code",
   "execution_count": 161,
   "metadata": {},
   "outputs": [
    {
     "data": {
      "text/plain": [
       "Year  Time Group     \n",
       "2003  After Hours        67414\n",
       "      Business Hours     58025\n",
       "      Graveyard Hours    18713\n",
       "2004  After Hours        69167\n",
       "      Business Hours     59462\n",
       "      Graveyard Hours    19519\n",
       "2005  After Hours        66315\n",
       "      Business Hours     56446\n",
       "      Graveyard Hours    19425\n",
       "2006  After Hours        63359\n",
       "      Business Hours     55970\n",
       "      Graveyard Hours    18524\n",
       "2007  After Hours        64200\n",
       "      Business Hours     55303\n",
       "      Graveyard Hours    18136\n",
       "Name: Time Group, dtype: int64"
      ]
     },
     "execution_count": 161,
     "metadata": {},
     "output_type": "execute_result"
    }
   ],
   "source": [
    "# Create a group based on the values in the 'Year' column\n",
    "crimeyearsTG0307_group = newCrimeTG2003_2007.groupby(['Year', 'Time Group'])\n",
    "# Count every occurance in the Year group\n",
    "crimeTG0307_count = crimeyearsTG0307_group['Time Group'].count()\n",
    "crimeTG0307_count"
   ]
  },
  {
   "cell_type": "code",
   "execution_count": 162,
   "metadata": {},
   "outputs": [
    {
     "data": {
      "text/html": [
       "<div>\n",
       "<style scoped>\n",
       "    .dataframe tbody tr th:only-of-type {\n",
       "        vertical-align: middle;\n",
       "    }\n",
       "\n",
       "    .dataframe tbody tr th {\n",
       "        vertical-align: top;\n",
       "    }\n",
       "\n",
       "    .dataframe thead th {\n",
       "        text-align: right;\n",
       "    }\n",
       "</style>\n",
       "<table border=\"1\" class=\"dataframe\">\n",
       "  <thead>\n",
       "    <tr style=\"text-align: right;\">\n",
       "      <th></th>\n",
       "      <th>Year</th>\n",
       "      <th>Time Group</th>\n",
       "      <th>Crime Incidents</th>\n",
       "    </tr>\n",
       "  </thead>\n",
       "  <tbody>\n",
       "    <tr>\n",
       "      <th>0</th>\n",
       "      <td>2003</td>\n",
       "      <td>After Hours</td>\n",
       "      <td>67414</td>\n",
       "    </tr>\n",
       "    <tr>\n",
       "      <th>1</th>\n",
       "      <td>2003</td>\n",
       "      <td>Business Hours</td>\n",
       "      <td>58025</td>\n",
       "    </tr>\n",
       "    <tr>\n",
       "      <th>2</th>\n",
       "      <td>2003</td>\n",
       "      <td>Graveyard Hours</td>\n",
       "      <td>18713</td>\n",
       "    </tr>\n",
       "    <tr>\n",
       "      <th>3</th>\n",
       "      <td>2004</td>\n",
       "      <td>After Hours</td>\n",
       "      <td>69167</td>\n",
       "    </tr>\n",
       "    <tr>\n",
       "      <th>4</th>\n",
       "      <td>2004</td>\n",
       "      <td>Business Hours</td>\n",
       "      <td>59462</td>\n",
       "    </tr>\n",
       "  </tbody>\n",
       "</table>\n",
       "</div>"
      ],
      "text/plain": [
       "   Year       Time Group  Crime Incidents\n",
       "0  2003      After Hours            67414\n",
       "1  2003   Business Hours            58025\n",
       "2  2003  Graveyard Hours            18713\n",
       "3  2004      After Hours            69167\n",
       "4  2004   Business Hours            59462"
      ]
     },
     "execution_count": 162,
     "metadata": {},
     "output_type": "execute_result"
    }
   ],
   "source": [
    "# Create a data frame using the series \n",
    "crimeTG0307_countdf = pd.DataFrame(crimeTG0307_count)\n",
    "# Reset index \n",
    "crimeTG0307_countdf = crimeTG0307_countdf.rename(columns={\"Time Group\": \"Crime Incidents\"})\n",
    "crimeTG0307_countdf = crimeTG0307_countdf.reset_index()\n",
    "crimeTG0307_countdf.head()"
   ]
  },
  {
   "cell_type": "code",
   "execution_count": 163,
   "metadata": {},
   "outputs": [],
   "source": [
    "# Load CSV for trees 2003-2007\n",
    "treesTG2003_2007 = pd.read_csv(\"Source CSVs/SF_Trees2003-2007.csv\")\n",
    "# Drop unnamed columns\n",
    "treesTG2003_2007 = treesTG2003_2007.loc[:, ~treesTG2003_2007.columns.str.contains('^Unnamed')]"
   ]
  },
  {
   "cell_type": "code",
   "execution_count": 164,
   "metadata": {},
   "outputs": [
    {
     "data": {
      "text/html": [
       "<div>\n",
       "<style scoped>\n",
       "    .dataframe tbody tr th:only-of-type {\n",
       "        vertical-align: middle;\n",
       "    }\n",
       "\n",
       "    .dataframe tbody tr th {\n",
       "        vertical-align: top;\n",
       "    }\n",
       "\n",
       "    .dataframe thead th {\n",
       "        text-align: right;\n",
       "    }\n",
       "</style>\n",
       "<table border=\"1\" class=\"dataframe\">\n",
       "  <thead>\n",
       "    <tr style=\"text-align: right;\">\n",
       "      <th></th>\n",
       "      <th>Species</th>\n",
       "      <th>Year</th>\n",
       "    </tr>\n",
       "  </thead>\n",
       "  <tbody>\n",
       "    <tr>\n",
       "      <th>0</th>\n",
       "      <td>Ginkgo biloba :: Maidenhair Tree</td>\n",
       "      <td>2005</td>\n",
       "    </tr>\n",
       "    <tr>\n",
       "      <th>1</th>\n",
       "      <td>Pittosporum undulatum :: Victorian Box</td>\n",
       "      <td>2006</td>\n",
       "    </tr>\n",
       "    <tr>\n",
       "      <th>2</th>\n",
       "      <td>Prunus cerasifera :: Cherry Plum</td>\n",
       "      <td>2004</td>\n",
       "    </tr>\n",
       "    <tr>\n",
       "      <th>3</th>\n",
       "      <td>Prunus cerasifera :: Cherry Plum</td>\n",
       "      <td>2005</td>\n",
       "    </tr>\n",
       "    <tr>\n",
       "      <th>4</th>\n",
       "      <td>Prunus cerasifera :: Cherry Plum</td>\n",
       "      <td>2005</td>\n",
       "    </tr>\n",
       "  </tbody>\n",
       "</table>\n",
       "</div>"
      ],
      "text/plain": [
       "                                  Species  Year\n",
       "0        Ginkgo biloba :: Maidenhair Tree  2005\n",
       "1  Pittosporum undulatum :: Victorian Box  2006\n",
       "2        Prunus cerasifera :: Cherry Plum  2004\n",
       "3        Prunus cerasifera :: Cherry Plum  2005\n",
       "4        Prunus cerasifera :: Cherry Plum  2005"
      ]
     },
     "execution_count": 164,
     "metadata": {},
     "output_type": "execute_result"
    }
   ],
   "source": [
    "# Drop unwanted columns for analysis\n",
    "newTreesTG2003_2007 = treesTG2003_2007.drop(columns =['Tree ID', 'Latitude', 'Longitude'])\n",
    "newTreesTG2003_2007.head()"
   ]
  },
  {
   "cell_type": "code",
   "execution_count": 165,
   "metadata": {},
   "outputs": [
    {
     "data": {
      "text/plain": [
       "Year\n",
       "2003    2017\n",
       "2004     994\n",
       "2005    1628\n",
       "2006    2092\n",
       "2007    2175\n",
       "Name: Year, dtype: int64"
      ]
     },
     "execution_count": 165,
     "metadata": {},
     "output_type": "execute_result"
    }
   ],
   "source": [
    "# Create a group based on the values in the 'Year' column\n",
    "treeyearsTG0307_group = newTreesTG2003_2007.groupby('Year')\n",
    "# Count how many times a tree was planted in each year\n",
    "# Multiply count to fit the scale of crime incidents\n",
    "treeTG0307_count = treeyearsTG0307_group['Year'].count()\n",
    "treeTG0307_count"
   ]
  },
  {
   "cell_type": "code",
   "execution_count": 166,
   "metadata": {
    "scrolled": false
   },
   "outputs": [
    {
     "data": {
      "text/html": [
       "<div>\n",
       "<style scoped>\n",
       "    .dataframe tbody tr th:only-of-type {\n",
       "        vertical-align: middle;\n",
       "    }\n",
       "\n",
       "    .dataframe tbody tr th {\n",
       "        vertical-align: top;\n",
       "    }\n",
       "\n",
       "    .dataframe thead th {\n",
       "        text-align: right;\n",
       "    }\n",
       "</style>\n",
       "<table border=\"1\" class=\"dataframe\">\n",
       "  <thead>\n",
       "    <tr style=\"text-align: right;\">\n",
       "      <th></th>\n",
       "      <th>Trees Planted</th>\n",
       "    </tr>\n",
       "    <tr>\n",
       "      <th>Year</th>\n",
       "      <th></th>\n",
       "    </tr>\n",
       "  </thead>\n",
       "  <tbody>\n",
       "    <tr>\n",
       "      <th>2003</th>\n",
       "      <td>2017</td>\n",
       "    </tr>\n",
       "    <tr>\n",
       "      <th>2004</th>\n",
       "      <td>994</td>\n",
       "    </tr>\n",
       "    <tr>\n",
       "      <th>2005</th>\n",
       "      <td>1628</td>\n",
       "    </tr>\n",
       "    <tr>\n",
       "      <th>2006</th>\n",
       "      <td>2092</td>\n",
       "    </tr>\n",
       "    <tr>\n",
       "      <th>2007</th>\n",
       "      <td>2175</td>\n",
       "    </tr>\n",
       "  </tbody>\n",
       "</table>\n",
       "</div>"
      ],
      "text/plain": [
       "      Trees Planted\n",
       "Year               \n",
       "2003           2017\n",
       "2004            994\n",
       "2005           1628\n",
       "2006           2092\n",
       "2007           2175"
      ]
     },
     "execution_count": 166,
     "metadata": {},
     "output_type": "execute_result"
    }
   ],
   "source": [
    "# Create a data using the series \n",
    "treeTG0307_countdf = pd.DataFrame(treeTG0307_count)\n",
    "# Reset index and reame 'Year' column\n",
    "treeTG0307_countdf = treeTG0307_countdf.rename(columns={\"Year\": \"Trees Planted\"})\n",
    "#treeTG0307_countdf = treeTG0307_countdf.reset_index()\n",
    "treeTG0307_countdf"
   ]
  },
  {
   "cell_type": "code",
   "execution_count": 167,
   "metadata": {},
   "outputs": [
    {
     "data": {
      "image/png": "[encoded data removed]",
      "text/plain": [
       "<Figure size 432x288 with 1 Axes>"
      ]
     },
     "metadata": {
      "needs_background": "light"
     },
     "output_type": "display_data"
    }
   ],
   "source": [
    "# Configure plot and ticks\n",
    "treeTG0307_countdf.plot(color=\"red\")\n",
    "\n",
    "# Set textual properties\n",
    "plt.title(\"Number of Trees Planted 2003-2007\")\n",
    "plt.xlabel(\"Year\")\n",
    "plt.ylabel(\"Trees Planted\")\n",
    "plt.savefig(\"Images/TreesPlanted2003-2007.png\")\n"
   ]
  },
  {
   "cell_type": "code",
   "execution_count": 168,
   "metadata": {
    "scrolled": false
   },
   "outputs": [
    {
     "data": {
      "text/html": [
       "<div>\n",
       "<style scoped>\n",
       "    .dataframe tbody tr th:only-of-type {\n",
       "        vertical-align: middle;\n",
       "    }\n",
       "\n",
       "    .dataframe tbody tr th {\n",
       "        vertical-align: top;\n",
       "    }\n",
       "\n",
       "    .dataframe thead th {\n",
       "        text-align: right;\n",
       "    }\n",
       "</style>\n",
       "<table border=\"1\" class=\"dataframe\">\n",
       "  <thead>\n",
       "    <tr style=\"text-align: right;\">\n",
       "      <th></th>\n",
       "      <th>Year</th>\n",
       "      <th>Time Group</th>\n",
       "      <th>Crime Incidents</th>\n",
       "      <th>Trees Planted</th>\n",
       "    </tr>\n",
       "  </thead>\n",
       "  <tbody>\n",
       "    <tr>\n",
       "      <th>0</th>\n",
       "      <td>2003</td>\n",
       "      <td>After Hours</td>\n",
       "      <td>67414</td>\n",
       "      <td>2017</td>\n",
       "    </tr>\n",
       "    <tr>\n",
       "      <th>1</th>\n",
       "      <td>2003</td>\n",
       "      <td>Business Hours</td>\n",
       "      <td>58025</td>\n",
       "      <td>2017</td>\n",
       "    </tr>\n",
       "    <tr>\n",
       "      <th>2</th>\n",
       "      <td>2003</td>\n",
       "      <td>Graveyard Hours</td>\n",
       "      <td>18713</td>\n",
       "      <td>2017</td>\n",
       "    </tr>\n",
       "    <tr>\n",
       "      <th>3</th>\n",
       "      <td>2004</td>\n",
       "      <td>After Hours</td>\n",
       "      <td>69167</td>\n",
       "      <td>994</td>\n",
       "    </tr>\n",
       "    <tr>\n",
       "      <th>4</th>\n",
       "      <td>2004</td>\n",
       "      <td>Business Hours</td>\n",
       "      <td>59462</td>\n",
       "      <td>994</td>\n",
       "    </tr>\n",
       "  </tbody>\n",
       "</table>\n",
       "</div>"
      ],
      "text/plain": [
       "   Year       Time Group  Crime Incidents  Trees Planted\n",
       "0  2003      After Hours            67414           2017\n",
       "1  2003   Business Hours            58025           2017\n",
       "2  2003  Graveyard Hours            18713           2017\n",
       "3  2004      After Hours            69167            994\n",
       "4  2004   Business Hours            59462            994"
      ]
     },
     "execution_count": 168,
     "metadata": {},
     "output_type": "execute_result"
    }
   ],
   "source": [
    "# Merge 2003-2007 blocks for crime and trees\n",
    "mergedTG2003_2007 = pd.merge(crimeTG0307_countdf, treeTG0307_countdf, on='Year', how=\"outer\")\n",
    "mergedTG2003_2007.head()"
   ]
  },
  {
   "cell_type": "code",
   "execution_count": 169,
   "metadata": {},
   "outputs": [
    {
     "data": {
      "text/html": [
       "<div>\n",
       "<style scoped>\n",
       "    .dataframe tbody tr th:only-of-type {\n",
       "        vertical-align: middle;\n",
       "    }\n",
       "\n",
       "    .dataframe tbody tr th {\n",
       "        vertical-align: top;\n",
       "    }\n",
       "\n",
       "    .dataframe thead tr th {\n",
       "        text-align: left;\n",
       "    }\n",
       "\n",
       "    .dataframe thead tr:last-of-type th {\n",
       "        text-align: right;\n",
       "    }\n",
       "</style>\n",
       "<table border=\"1\" class=\"dataframe\">\n",
       "  <thead>\n",
       "    <tr>\n",
       "      <th></th>\n",
       "      <th colspan=\"3\" halign=\"left\">Crime Incidents</th>\n",
       "      <th colspan=\"3\" halign=\"left\">Trees Planted</th>\n",
       "    </tr>\n",
       "    <tr>\n",
       "      <th>Time Group</th>\n",
       "      <th>After Hours</th>\n",
       "      <th>Business Hours</th>\n",
       "      <th>Graveyard Hours</th>\n",
       "      <th>After Hours</th>\n",
       "      <th>Business Hours</th>\n",
       "      <th>Graveyard Hours</th>\n",
       "    </tr>\n",
       "    <tr>\n",
       "      <th>Year</th>\n",
       "      <th></th>\n",
       "      <th></th>\n",
       "      <th></th>\n",
       "      <th></th>\n",
       "      <th></th>\n",
       "      <th></th>\n",
       "    </tr>\n",
       "  </thead>\n",
       "  <tbody>\n",
       "    <tr>\n",
       "      <th>2003</th>\n",
       "      <td>67414</td>\n",
       "      <td>58025</td>\n",
       "      <td>18713</td>\n",
       "      <td>2017</td>\n",
       "      <td>2017</td>\n",
       "      <td>2017</td>\n",
       "    </tr>\n",
       "    <tr>\n",
       "      <th>2004</th>\n",
       "      <td>69167</td>\n",
       "      <td>59462</td>\n",
       "      <td>19519</td>\n",
       "      <td>994</td>\n",
       "      <td>994</td>\n",
       "      <td>994</td>\n",
       "    </tr>\n",
       "    <tr>\n",
       "      <th>2005</th>\n",
       "      <td>66315</td>\n",
       "      <td>56446</td>\n",
       "      <td>19425</td>\n",
       "      <td>1628</td>\n",
       "      <td>1628</td>\n",
       "      <td>1628</td>\n",
       "    </tr>\n",
       "    <tr>\n",
       "      <th>2006</th>\n",
       "      <td>63359</td>\n",
       "      <td>55970</td>\n",
       "      <td>18524</td>\n",
       "      <td>2092</td>\n",
       "      <td>2092</td>\n",
       "      <td>2092</td>\n",
       "    </tr>\n",
       "    <tr>\n",
       "      <th>2007</th>\n",
       "      <td>64200</td>\n",
       "      <td>55303</td>\n",
       "      <td>18136</td>\n",
       "      <td>2175</td>\n",
       "      <td>2175</td>\n",
       "      <td>2175</td>\n",
       "    </tr>\n",
       "  </tbody>\n",
       "</table>\n",
       "</div>"
      ],
      "text/plain": [
       "           Crime Incidents                                Trees Planted  \\\n",
       "Time Group     After Hours Business Hours Graveyard Hours   After Hours   \n",
       "Year                                                                      \n",
       "2003                 67414          58025           18713          2017   \n",
       "2004                 69167          59462           19519           994   \n",
       "2005                 66315          56446           19425          1628   \n",
       "2006                 63359          55970           18524          2092   \n",
       "2007                 64200          55303           18136          2175   \n",
       "\n",
       "                                           \n",
       "Time Group Business Hours Graveyard Hours  \n",
       "Year                                       \n",
       "2003                 2017            2017  \n",
       "2004                  994             994  \n",
       "2005                 1628            1628  \n",
       "2006                 2092            2092  \n",
       "2007                 2175            2175  "
      ]
     },
     "execution_count": 169,
     "metadata": {},
     "output_type": "execute_result"
    }
   ],
   "source": [
    "mungeCrimeTG2003_2007 = mergedTG2003_2007.pivot(index ='Year', columns ='Time Group', values=['Crime Incidents', \"Trees Planted\"])\n",
    "mungeCrimeTG2003_2007"
   ]
  },
  {
   "cell_type": "code",
   "execution_count": 170,
   "metadata": {},
   "outputs": [
    {
     "data": {
      "image/png": "[encoded data removed]",
      "text/plain": [
       "<Figure size 432x288 with 1 Axes>"
      ]
     },
     "metadata": {
      "needs_background": "light"
     },
     "output_type": "display_data"
    }
   ],
   "source": [
    "mungeCrimeTG2003_2007[\"Crime Incidents\"][[\"After Hours\", \"Business Hours\", \"Graveyard Hours\"]].plot(kind='bar', width=.75)\n",
    "\n",
    "# Set textual properties\n",
    "plt.legend(loc=\"best\")\n",
    "\n",
    "plt.tight_layout()\n",
    "plt.xlim(-1, 7)\n",
    "plt.title(\"Crime Rate By Time of Day 2003-2007\")\n",
    "plt.xlabel(\"Year\")\n",
    "plt.ylabel(\"Crime Incidents\")\n",
    "plt.savefig(\"Images/TimeGroupCrime2003-2007.png\")\n"
   ]
  },
  {
   "cell_type": "markdown",
   "metadata": {},
   "source": [
    "# 2008-2012 Time Block"
   ]
  },
  {
   "cell_type": "code",
   "execution_count": 171,
   "metadata": {
    "scrolled": false
   },
   "outputs": [],
   "source": [
    "# Load CSV for crime 2008-2012\n",
    "crime2008_2012 = pd.read_csv(\"Source CSVs/Crime2008-2012_with_timeblocks.csv\")\n",
    "# Drop unnamed columns\n",
    "crime2008_2012 = crime2008_2012.loc[:, ~crime2008_2012.columns.str.contains('^Unnamed')]"
   ]
  },
  {
   "cell_type": "code",
   "execution_count": 172,
   "metadata": {},
   "outputs": [
    {
     "data": {
      "text/html": [
       "<div>\n",
       "<style scoped>\n",
       "    .dataframe tbody tr th:only-of-type {\n",
       "        vertical-align: middle;\n",
       "    }\n",
       "\n",
       "    .dataframe tbody tr th {\n",
       "        vertical-align: top;\n",
       "    }\n",
       "\n",
       "    .dataframe thead th {\n",
       "        text-align: right;\n",
       "    }\n",
       "</style>\n",
       "<table border=\"1\" class=\"dataframe\">\n",
       "  <thead>\n",
       "    <tr style=\"text-align: right;\">\n",
       "      <th></th>\n",
       "      <th>Category</th>\n",
       "      <th>Description</th>\n",
       "      <th>Year</th>\n",
       "      <th>Time Group</th>\n",
       "    </tr>\n",
       "  </thead>\n",
       "  <tbody>\n",
       "    <tr>\n",
       "      <th>0</th>\n",
       "      <td>LARCENY/THEFT</td>\n",
       "      <td>GRAND THEFT FROM A BUILDING</td>\n",
       "      <td>2012</td>\n",
       "      <td>After Hours</td>\n",
       "    </tr>\n",
       "    <tr>\n",
       "      <th>1</th>\n",
       "      <td>STOLEN PROPERTY</td>\n",
       "      <td>STOLEN PROPERTY, POSSESSION WITH KNOWLEDGE, RE...</td>\n",
       "      <td>2012</td>\n",
       "      <td>After Hours</td>\n",
       "    </tr>\n",
       "    <tr>\n",
       "      <th>2</th>\n",
       "      <td>WEAPON LAWS</td>\n",
       "      <td>POSS OF LOADED FIREARM</td>\n",
       "      <td>2012</td>\n",
       "      <td>After Hours</td>\n",
       "    </tr>\n",
       "    <tr>\n",
       "      <th>3</th>\n",
       "      <td>OTHER OFFENSES</td>\n",
       "      <td>PAROLE VIOLATION</td>\n",
       "      <td>2012</td>\n",
       "      <td>After Hours</td>\n",
       "    </tr>\n",
       "    <tr>\n",
       "      <th>4</th>\n",
       "      <td>LARCENY/THEFT</td>\n",
       "      <td>PETTY THEFT OF PROPERTY</td>\n",
       "      <td>2012</td>\n",
       "      <td>After Hours</td>\n",
       "    </tr>\n",
       "  </tbody>\n",
       "</table>\n",
       "</div>"
      ],
      "text/plain": [
       "          Category                                        Description  Year  \\\n",
       "0    LARCENY/THEFT                        GRAND THEFT FROM A BUILDING  2012   \n",
       "1  STOLEN PROPERTY  STOLEN PROPERTY, POSSESSION WITH KNOWLEDGE, RE...  2012   \n",
       "2      WEAPON LAWS                             POSS OF LOADED FIREARM  2012   \n",
       "3   OTHER OFFENSES                                   PAROLE VIOLATION  2012   \n",
       "4    LARCENY/THEFT                            PETTY THEFT OF PROPERTY  2012   \n",
       "\n",
       "    Time Group  \n",
       "0  After Hours  \n",
       "1  After Hours  \n",
       "2  After Hours  \n",
       "3  After Hours  \n",
       "4  After Hours  "
      ]
     },
     "execution_count": 172,
     "metadata": {},
     "output_type": "execute_result"
    }
   ],
   "source": [
    "# Drop unwanted columns for analysis\n",
    "newCrime2008_2012 = crime2008_2012.drop(columns =['Incident ID', 'Day', 'Time', 'District', 'Longitude', 'Latitude'])\n",
    "newCrime2008_2012.head()"
   ]
  },
  {
   "cell_type": "code",
   "execution_count": 173,
   "metadata": {
    "scrolled": false
   },
   "outputs": [
    {
     "data": {
      "text/plain": [
       "Year  Time Group     \n",
       "2008  After Hours        65013\n",
       "      Business Hours     57147\n",
       "      Graveyard Hours    19151\n",
       "2009  After Hours        64052\n",
       "      Business Hours     56567\n",
       "      Graveyard Hours    19241\n",
       "2010  After Hours        63696\n",
       "      Business Hours     52261\n",
       "      Graveyard Hours    17566\n",
       "2011  After Hours        63167\n",
       "      Business Hours     51818\n",
       "      Graveyard Hours    17712\n",
       "2012  After Hours        67732\n",
       "      Business Hours     54952\n",
       "      Graveyard Hours    18163\n",
       "Name: Time Group, dtype: int64"
      ]
     },
     "execution_count": 173,
     "metadata": {},
     "output_type": "execute_result"
    }
   ],
   "source": [
    "# Create a group based on the values in the 'Year' column\n",
    "crimeyears0812_group = newCrime2008_2012.groupby(['Year', 'Time Group'])\n",
    "# Count every occurance for each year\n",
    "crime0812_count = crimeyears0812_group['Time Group'].count()\n",
    "crime0812_count"
   ]
  },
  {
   "cell_type": "code",
   "execution_count": 174,
   "metadata": {},
   "outputs": [
    {
     "data": {
      "text/html": [
       "<div>\n",
       "<style scoped>\n",
       "    .dataframe tbody tr th:only-of-type {\n",
       "        vertical-align: middle;\n",
       "    }\n",
       "\n",
       "    .dataframe tbody tr th {\n",
       "        vertical-align: top;\n",
       "    }\n",
       "\n",
       "    .dataframe thead th {\n",
       "        text-align: right;\n",
       "    }\n",
       "</style>\n",
       "<table border=\"1\" class=\"dataframe\">\n",
       "  <thead>\n",
       "    <tr style=\"text-align: right;\">\n",
       "      <th></th>\n",
       "      <th>Year</th>\n",
       "      <th>Time Group</th>\n",
       "      <th>Crime Incidents</th>\n",
       "    </tr>\n",
       "  </thead>\n",
       "  <tbody>\n",
       "    <tr>\n",
       "      <th>0</th>\n",
       "      <td>2008</td>\n",
       "      <td>After Hours</td>\n",
       "      <td>65013</td>\n",
       "    </tr>\n",
       "    <tr>\n",
       "      <th>1</th>\n",
       "      <td>2008</td>\n",
       "      <td>Business Hours</td>\n",
       "      <td>57147</td>\n",
       "    </tr>\n",
       "    <tr>\n",
       "      <th>2</th>\n",
       "      <td>2008</td>\n",
       "      <td>Graveyard Hours</td>\n",
       "      <td>19151</td>\n",
       "    </tr>\n",
       "    <tr>\n",
       "      <th>3</th>\n",
       "      <td>2009</td>\n",
       "      <td>After Hours</td>\n",
       "      <td>64052</td>\n",
       "    </tr>\n",
       "    <tr>\n",
       "      <th>4</th>\n",
       "      <td>2009</td>\n",
       "      <td>Business Hours</td>\n",
       "      <td>56567</td>\n",
       "    </tr>\n",
       "  </tbody>\n",
       "</table>\n",
       "</div>"
      ],
      "text/plain": [
       "   Year       Time Group  Crime Incidents\n",
       "0  2008      After Hours            65013\n",
       "1  2008   Business Hours            57147\n",
       "2  2008  Graveyard Hours            19151\n",
       "3  2009      After Hours            64052\n",
       "4  2009   Business Hours            56567"
      ]
     },
     "execution_count": 174,
     "metadata": {},
     "output_type": "execute_result"
    }
   ],
   "source": [
    "# Create a data frame using the series\n",
    "crime0812_countdf = pd.DataFrame(crime0812_count)\n",
    "# Reset the index and rename the 'Year' column\n",
    "crime0812_countdf = crime0812_countdf.rename(columns={\"Time Group\": \"Crime Incidents\"})\n",
    "crime0812_countdf = crime0812_countdf.reset_index()\n",
    "crime0812_countdf.head()"
   ]
  },
  {
   "cell_type": "code",
   "execution_count": 175,
   "metadata": {
    "scrolled": true
   },
   "outputs": [],
   "source": [
    "# Load CSV for trees 2008-2012\n",
    "trees2008_2012 = pd.read_csv(\"Source CSVs/SF_Trees2007-2012.csv\")\n",
    "# Drop unnamed columns\n",
    "trees2008_2012 = trees2008_2012.loc[:, ~trees2008_2012.columns.str.contains('^Unnamed')]"
   ]
  },
  {
   "cell_type": "code",
   "execution_count": 176,
   "metadata": {},
   "outputs": [
    {
     "data": {
      "text/html": [
       "<div>\n",
       "<style scoped>\n",
       "    .dataframe tbody tr th:only-of-type {\n",
       "        vertical-align: middle;\n",
       "    }\n",
       "\n",
       "    .dataframe tbody tr th {\n",
       "        vertical-align: top;\n",
       "    }\n",
       "\n",
       "    .dataframe thead th {\n",
       "        text-align: right;\n",
       "    }\n",
       "</style>\n",
       "<table border=\"1\" class=\"dataframe\">\n",
       "  <thead>\n",
       "    <tr style=\"text-align: right;\">\n",
       "      <th></th>\n",
       "      <th>Tree ID</th>\n",
       "      <th>Species</th>\n",
       "      <th>Year</th>\n",
       "    </tr>\n",
       "  </thead>\n",
       "  <tbody>\n",
       "    <tr>\n",
       "      <th>0</th>\n",
       "      <td>102172</td>\n",
       "      <td>Prunus serrulata 'Kwanzan' :: Kwanzan Flowerin...</td>\n",
       "      <td>2012</td>\n",
       "    </tr>\n",
       "    <tr>\n",
       "      <th>1</th>\n",
       "      <td>102171</td>\n",
       "      <td>Prunus serrulata 'Kwanzan' :: Kwanzan Flowerin...</td>\n",
       "      <td>2012</td>\n",
       "    </tr>\n",
       "    <tr>\n",
       "      <th>2</th>\n",
       "      <td>82730</td>\n",
       "      <td>Tristaniopsis laurina :: Swamp Myrtle</td>\n",
       "      <td>2008</td>\n",
       "    </tr>\n",
       "    <tr>\n",
       "      <th>3</th>\n",
       "      <td>82709</td>\n",
       "      <td>Casurina stricta :: Beefwood: Drooping She-Oak</td>\n",
       "      <td>2009</td>\n",
       "    </tr>\n",
       "    <tr>\n",
       "      <th>4</th>\n",
       "      <td>103814</td>\n",
       "      <td>Prunus serrulata 'Kwanzan' :: Kwanzan Flowerin...</td>\n",
       "      <td>2009</td>\n",
       "    </tr>\n",
       "  </tbody>\n",
       "</table>\n",
       "</div>"
      ],
      "text/plain": [
       "   Tree ID                                            Species  Year\n",
       "0   102172  Prunus serrulata 'Kwanzan' :: Kwanzan Flowerin...  2012\n",
       "1   102171  Prunus serrulata 'Kwanzan' :: Kwanzan Flowerin...  2012\n",
       "2    82730              Tristaniopsis laurina :: Swamp Myrtle  2008\n",
       "3    82709     Casurina stricta :: Beefwood: Drooping She-Oak  2009\n",
       "4   103814  Prunus serrulata 'Kwanzan' :: Kwanzan Flowerin...  2009"
      ]
     },
     "execution_count": 176,
     "metadata": {},
     "output_type": "execute_result"
    }
   ],
   "source": [
    "# Drop unwanted columna for analysis\n",
    "newTrees2008_2012 = trees2008_2012.drop(columns =['Latitude', 'Longitude'])\n",
    "newTrees2008_2012.head()"
   ]
  },
  {
   "cell_type": "code",
   "execution_count": 177,
   "metadata": {
    "scrolled": false
   },
   "outputs": [
    {
     "data": {
      "text/plain": [
       "Year\n",
       "2008    4289\n",
       "2009    1799\n",
       "2010    1072\n",
       "2011    1481\n",
       "2012     959\n",
       "Name: Year, dtype: int64"
      ]
     },
     "execution_count": 177,
     "metadata": {},
     "output_type": "execute_result"
    }
   ],
   "source": [
    "# Create a group based on the values in the 'Year' column\n",
    "treeyears0812_group = newTrees2008_2012.groupby('Year')\n",
    "# Count the number trees planted each year\n",
    "# Multiply the count to fit the scale of the crime count\n",
    "tree0812_count = treeyears0812_group['Year'].count()\n",
    "tree0812_count"
   ]
  },
  {
   "cell_type": "code",
   "execution_count": 178,
   "metadata": {
    "scrolled": true
   },
   "outputs": [
    {
     "data": {
      "text/html": [
       "<div>\n",
       "<style scoped>\n",
       "    .dataframe tbody tr th:only-of-type {\n",
       "        vertical-align: middle;\n",
       "    }\n",
       "\n",
       "    .dataframe tbody tr th {\n",
       "        vertical-align: top;\n",
       "    }\n",
       "\n",
       "    .dataframe thead th {\n",
       "        text-align: right;\n",
       "    }\n",
       "</style>\n",
       "<table border=\"1\" class=\"dataframe\">\n",
       "  <thead>\n",
       "    <tr style=\"text-align: right;\">\n",
       "      <th></th>\n",
       "      <th>Trees Planted</th>\n",
       "    </tr>\n",
       "    <tr>\n",
       "      <th>Year</th>\n",
       "      <th></th>\n",
       "    </tr>\n",
       "  </thead>\n",
       "  <tbody>\n",
       "    <tr>\n",
       "      <th>2008</th>\n",
       "      <td>4289</td>\n",
       "    </tr>\n",
       "    <tr>\n",
       "      <th>2009</th>\n",
       "      <td>1799</td>\n",
       "    </tr>\n",
       "    <tr>\n",
       "      <th>2010</th>\n",
       "      <td>1072</td>\n",
       "    </tr>\n",
       "    <tr>\n",
       "      <th>2011</th>\n",
       "      <td>1481</td>\n",
       "    </tr>\n",
       "    <tr>\n",
       "      <th>2012</th>\n",
       "      <td>959</td>\n",
       "    </tr>\n",
       "  </tbody>\n",
       "</table>\n",
       "</div>"
      ],
      "text/plain": [
       "      Trees Planted\n",
       "Year               \n",
       "2008           4289\n",
       "2009           1799\n",
       "2010           1072\n",
       "2011           1481\n",
       "2012            959"
      ]
     },
     "execution_count": 178,
     "metadata": {},
     "output_type": "execute_result"
    }
   ],
   "source": [
    "#Create a data frame using the series\n",
    "tree0812_countdf = pd.DataFrame(tree0812_count)\n",
    "tree0812_countdf = tree0812_countdf.rename(columns={\"Year\": \"Trees Planted\"})\n",
    "#tree0812_countdf = tree0812_countdf.reset_index()\n",
    "tree0812_countdf"
   ]
  },
  {
   "cell_type": "code",
   "execution_count": 179,
   "metadata": {},
   "outputs": [
    {
     "data": {
      "image/png": "[encoded data removed]",
      "text/plain": [
       "<Figure size 432x288 with 1 Axes>"
      ]
     },
     "metadata": {
      "needs_background": "light"
     },
     "output_type": "display_data"
    }
   ],
   "source": [
    "# Configure plot and ticks\n",
    "tree0812_countdf.plot(color=\"red\")\n",
    "\n",
    "# Set textual properties\n",
    "plt.title(\"Number of Trees Planted 2008-2012\")\n",
    "plt.xlabel(\"Year\")\n",
    "plt.ylabel(\"Trees Planted\")\n",
    "plt.savefig(\"Images/TreesPlanted2008-2012.png\")"
   ]
  },
  {
   "cell_type": "code",
   "execution_count": 180,
   "metadata": {
    "scrolled": true
   },
   "outputs": [
    {
     "data": {
      "text/html": [
       "<div>\n",
       "<style scoped>\n",
       "    .dataframe tbody tr th:only-of-type {\n",
       "        vertical-align: middle;\n",
       "    }\n",
       "\n",
       "    .dataframe tbody tr th {\n",
       "        vertical-align: top;\n",
       "    }\n",
       "\n",
       "    .dataframe thead th {\n",
       "        text-align: right;\n",
       "    }\n",
       "</style>\n",
       "<table border=\"1\" class=\"dataframe\">\n",
       "  <thead>\n",
       "    <tr style=\"text-align: right;\">\n",
       "      <th></th>\n",
       "      <th>Year</th>\n",
       "      <th>Time Group</th>\n",
       "      <th>Crime Incidents</th>\n",
       "      <th>Trees Planted</th>\n",
       "    </tr>\n",
       "  </thead>\n",
       "  <tbody>\n",
       "    <tr>\n",
       "      <th>0</th>\n",
       "      <td>2008</td>\n",
       "      <td>After Hours</td>\n",
       "      <td>65013</td>\n",
       "      <td>4289</td>\n",
       "    </tr>\n",
       "    <tr>\n",
       "      <th>1</th>\n",
       "      <td>2008</td>\n",
       "      <td>Business Hours</td>\n",
       "      <td>57147</td>\n",
       "      <td>4289</td>\n",
       "    </tr>\n",
       "    <tr>\n",
       "      <th>2</th>\n",
       "      <td>2008</td>\n",
       "      <td>Graveyard Hours</td>\n",
       "      <td>19151</td>\n",
       "      <td>4289</td>\n",
       "    </tr>\n",
       "    <tr>\n",
       "      <th>3</th>\n",
       "      <td>2009</td>\n",
       "      <td>After Hours</td>\n",
       "      <td>64052</td>\n",
       "      <td>1799</td>\n",
       "    </tr>\n",
       "    <tr>\n",
       "      <th>4</th>\n",
       "      <td>2009</td>\n",
       "      <td>Business Hours</td>\n",
       "      <td>56567</td>\n",
       "      <td>1799</td>\n",
       "    </tr>\n",
       "  </tbody>\n",
       "</table>\n",
       "</div>"
      ],
      "text/plain": [
       "   Year       Time Group  Crime Incidents  Trees Planted\n",
       "0  2008      After Hours            65013           4289\n",
       "1  2008   Business Hours            57147           4289\n",
       "2  2008  Graveyard Hours            19151           4289\n",
       "3  2009      After Hours            64052           1799\n",
       "4  2009   Business Hours            56567           1799"
      ]
     },
     "execution_count": 180,
     "metadata": {},
     "output_type": "execute_result"
    }
   ],
   "source": [
    "# Merge 2008-2012 blocks for crime and trees\n",
    "merged2008_2012 = pd.merge(crime0812_countdf, tree0812_countdf, on='Year', how=\"outer\")\n",
    "merged2008_2012.head()"
   ]
  },
  {
   "cell_type": "code",
   "execution_count": 181,
   "metadata": {
    "scrolled": true
   },
   "outputs": [
    {
     "data": {
      "text/html": [
       "<div>\n",
       "<style scoped>\n",
       "    .dataframe tbody tr th:only-of-type {\n",
       "        vertical-align: middle;\n",
       "    }\n",
       "\n",
       "    .dataframe tbody tr th {\n",
       "        vertical-align: top;\n",
       "    }\n",
       "\n",
       "    .dataframe thead tr th {\n",
       "        text-align: left;\n",
       "    }\n",
       "\n",
       "    .dataframe thead tr:last-of-type th {\n",
       "        text-align: right;\n",
       "    }\n",
       "</style>\n",
       "<table border=\"1\" class=\"dataframe\">\n",
       "  <thead>\n",
       "    <tr>\n",
       "      <th></th>\n",
       "      <th colspan=\"3\" halign=\"left\">Crime Incidents</th>\n",
       "      <th colspan=\"3\" halign=\"left\">Trees Planted</th>\n",
       "    </tr>\n",
       "    <tr>\n",
       "      <th>Time Group</th>\n",
       "      <th>After Hours</th>\n",
       "      <th>Business Hours</th>\n",
       "      <th>Graveyard Hours</th>\n",
       "      <th>After Hours</th>\n",
       "      <th>Business Hours</th>\n",
       "      <th>Graveyard Hours</th>\n",
       "    </tr>\n",
       "    <tr>\n",
       "      <th>Year</th>\n",
       "      <th></th>\n",
       "      <th></th>\n",
       "      <th></th>\n",
       "      <th></th>\n",
       "      <th></th>\n",
       "      <th></th>\n",
       "    </tr>\n",
       "  </thead>\n",
       "  <tbody>\n",
       "    <tr>\n",
       "      <th>2008</th>\n",
       "      <td>65013</td>\n",
       "      <td>57147</td>\n",
       "      <td>19151</td>\n",
       "      <td>4289</td>\n",
       "      <td>4289</td>\n",
       "      <td>4289</td>\n",
       "    </tr>\n",
       "    <tr>\n",
       "      <th>2009</th>\n",
       "      <td>64052</td>\n",
       "      <td>56567</td>\n",
       "      <td>19241</td>\n",
       "      <td>1799</td>\n",
       "      <td>1799</td>\n",
       "      <td>1799</td>\n",
       "    </tr>\n",
       "    <tr>\n",
       "      <th>2010</th>\n",
       "      <td>63696</td>\n",
       "      <td>52261</td>\n",
       "      <td>17566</td>\n",
       "      <td>1072</td>\n",
       "      <td>1072</td>\n",
       "      <td>1072</td>\n",
       "    </tr>\n",
       "    <tr>\n",
       "      <th>2011</th>\n",
       "      <td>63167</td>\n",
       "      <td>51818</td>\n",
       "      <td>17712</td>\n",
       "      <td>1481</td>\n",
       "      <td>1481</td>\n",
       "      <td>1481</td>\n",
       "    </tr>\n",
       "    <tr>\n",
       "      <th>2012</th>\n",
       "      <td>67732</td>\n",
       "      <td>54952</td>\n",
       "      <td>18163</td>\n",
       "      <td>959</td>\n",
       "      <td>959</td>\n",
       "      <td>959</td>\n",
       "    </tr>\n",
       "  </tbody>\n",
       "</table>\n",
       "</div>"
      ],
      "text/plain": [
       "           Crime Incidents                                Trees Planted  \\\n",
       "Time Group     After Hours Business Hours Graveyard Hours   After Hours   \n",
       "Year                                                                      \n",
       "2008                 65013          57147           19151          4289   \n",
       "2009                 64052          56567           19241          1799   \n",
       "2010                 63696          52261           17566          1072   \n",
       "2011                 63167          51818           17712          1481   \n",
       "2012                 67732          54952           18163           959   \n",
       "\n",
       "                                           \n",
       "Time Group Business Hours Graveyard Hours  \n",
       "Year                                       \n",
       "2008                 4289            4289  \n",
       "2009                 1799            1799  \n",
       "2010                 1072            1072  \n",
       "2011                 1481            1481  \n",
       "2012                  959             959  "
      ]
     },
     "execution_count": 181,
     "metadata": {},
     "output_type": "execute_result"
    }
   ],
   "source": [
    "mungeCrime2008_2012 = merged2008_2012.pivot(index ='Year', columns ='Time Group', values=['Crime Incidents', \"Trees Planted\"])\n",
    "mungeCrime2008_2012"
   ]
  },
  {
   "cell_type": "code",
   "execution_count": 182,
   "metadata": {},
   "outputs": [
    {
     "data": {
      "image/png": "[encoded data removed]",
      "text/plain": [
       "<Figure size 432x288 with 1 Axes>"
      ]
     },
     "metadata": {
      "needs_background": "light"
     },
     "output_type": "display_data"
    }
   ],
   "source": [
    "mungeCrime2008_2012[\"Crime Incidents\"][[\"After Hours\", \"Business Hours\", \"Graveyard Hours\"]].plot(kind='bar', width=.75)\n",
    "\n",
    "# Set textual properties\n",
    "plt.legend(loc=\"best\")\n",
    "\n",
    "plt.tight_layout()\n",
    "plt.xlim(-1, 7)\n",
    "plt.title(\"Crime Rate By Time of Day 2008-2012\")\n",
    "plt.xlabel(\"Year\")\n",
    "plt.ylabel(\"Crime Incidents\")\n",
    "plt.savefig(\"Images/TimeGroupCrime2008-2012.png\")\n"
   ]
  },
  {
   "cell_type": "markdown",
   "metadata": {},
   "source": [
    "# 2013-2017 Time Block"
   ]
  },
  {
   "cell_type": "code",
   "execution_count": 183,
   "metadata": {
    "scrolled": true
   },
   "outputs": [],
   "source": [
    "# Load CSV for crime 2013-2017\n",
    "crime2013_2017 = pd.read_csv(\"Source CSVs/Crime2013-2017_with_timeblocks.csv\")\n",
    "# Drop unnamed columns \n",
    "crime2013_2017 = crime2013_2017.loc[:, ~crime2013_2017.columns.str.contains('^Unnamed')]"
   ]
  },
  {
   "cell_type": "code",
   "execution_count": 184,
   "metadata": {},
   "outputs": [
    {
     "data": {
      "text/html": [
       "<div>\n",
       "<style scoped>\n",
       "    .dataframe tbody tr th:only-of-type {\n",
       "        vertical-align: middle;\n",
       "    }\n",
       "\n",
       "    .dataframe tbody tr th {\n",
       "        vertical-align: top;\n",
       "    }\n",
       "\n",
       "    .dataframe thead th {\n",
       "        text-align: right;\n",
       "    }\n",
       "</style>\n",
       "<table border=\"1\" class=\"dataframe\">\n",
       "  <thead>\n",
       "    <tr style=\"text-align: right;\">\n",
       "      <th></th>\n",
       "      <th>Category</th>\n",
       "      <th>Description</th>\n",
       "      <th>Year</th>\n",
       "      <th>Time Group</th>\n",
       "    </tr>\n",
       "  </thead>\n",
       "  <tbody>\n",
       "    <tr>\n",
       "      <th>0</th>\n",
       "      <td>ASSAULT</td>\n",
       "      <td>BATTERY</td>\n",
       "      <td>2017</td>\n",
       "      <td>After Hours</td>\n",
       "    </tr>\n",
       "    <tr>\n",
       "      <th>1</th>\n",
       "      <td>ASSAULT</td>\n",
       "      <td>AGGRAVATED ASSAULT WITH A KNIFE</td>\n",
       "      <td>2017</td>\n",
       "      <td>After Hours</td>\n",
       "    </tr>\n",
       "    <tr>\n",
       "      <th>2</th>\n",
       "      <td>BURGLARY</td>\n",
       "      <td>BURGLARY OF APARTMENT HOUSE, FORCIBLE ENTRY</td>\n",
       "      <td>2017</td>\n",
       "      <td>After Hours</td>\n",
       "    </tr>\n",
       "    <tr>\n",
       "      <th>3</th>\n",
       "      <td>WEAPON LAWS</td>\n",
       "      <td>EXHIBITING DEADLY WEAPON IN A THREATING MANNER</td>\n",
       "      <td>2017</td>\n",
       "      <td>After Hours</td>\n",
       "    </tr>\n",
       "    <tr>\n",
       "      <th>4</th>\n",
       "      <td>LARCENY/THEFT</td>\n",
       "      <td>PETTY THEFT OF PROPERTY</td>\n",
       "      <td>2017</td>\n",
       "      <td>After Hours</td>\n",
       "    </tr>\n",
       "  </tbody>\n",
       "</table>\n",
       "</div>"
      ],
      "text/plain": [
       "        Category                                     Description  Year  \\\n",
       "0        ASSAULT                                         BATTERY  2017   \n",
       "1        ASSAULT                 AGGRAVATED ASSAULT WITH A KNIFE  2017   \n",
       "2       BURGLARY     BURGLARY OF APARTMENT HOUSE, FORCIBLE ENTRY  2017   \n",
       "3    WEAPON LAWS  EXHIBITING DEADLY WEAPON IN A THREATING MANNER  2017   \n",
       "4  LARCENY/THEFT                         PETTY THEFT OF PROPERTY  2017   \n",
       "\n",
       "    Time Group  \n",
       "0  After Hours  \n",
       "1  After Hours  \n",
       "2  After Hours  \n",
       "3  After Hours  \n",
       "4  After Hours  "
      ]
     },
     "execution_count": 184,
     "metadata": {},
     "output_type": "execute_result"
    }
   ],
   "source": [
    "# Drop unwanted columns fi=or analysis\n",
    "newCrime2013_2017 = crime2013_2017.drop(columns =['Incident ID', 'Day', 'Time', 'District', 'Longitude', 'Latitude'])\n",
    "newCrime2013_2017.head()"
   ]
  },
  {
   "cell_type": "code",
   "execution_count": 185,
   "metadata": {},
   "outputs": [
    {
     "data": {
      "text/plain": [
       "Year  Time Group     \n",
       "2013  After Hours        72120\n",
       "      Business Hours     60248\n",
       "      Graveyard Hours    20438\n",
       "2014  After Hours        72228\n",
       "      Business Hours     58610\n",
       "      Graveyard Hours    19290\n",
       "2015  After Hours        75250\n",
       "      Business Hours     61088\n",
       "      Graveyard Hours    20188\n",
       "2016  After Hours        69984\n",
       "      Business Hours     60182\n",
       "      Graveyard Hours    20716\n",
       "2017  After Hours        72457\n",
       "      Business Hours     62251\n",
       "      Graveyard Hours    20065\n",
       "Name: Time Group, dtype: int64"
      ]
     },
     "execution_count": 185,
     "metadata": {},
     "output_type": "execute_result"
    }
   ],
   "source": [
    "# Create a group based on the values in the 'Year' column\n",
    "crimeyears1317_group = newCrime2013_2017.groupby(['Year', 'Time Group'])\n",
    "# Count the number of occurances for each year\n",
    "crime1317_count = crimeyears1317_group['Time Group'].count()\n",
    "crime1317_count"
   ]
  },
  {
   "cell_type": "code",
   "execution_count": 186,
   "metadata": {},
   "outputs": [
    {
     "data": {
      "text/html": [
       "<div>\n",
       "<style scoped>\n",
       "    .dataframe tbody tr th:only-of-type {\n",
       "        vertical-align: middle;\n",
       "    }\n",
       "\n",
       "    .dataframe tbody tr th {\n",
       "        vertical-align: top;\n",
       "    }\n",
       "\n",
       "    .dataframe thead th {\n",
       "        text-align: right;\n",
       "    }\n",
       "</style>\n",
       "<table border=\"1\" class=\"dataframe\">\n",
       "  <thead>\n",
       "    <tr style=\"text-align: right;\">\n",
       "      <th></th>\n",
       "      <th>Year</th>\n",
       "      <th>Time Group</th>\n",
       "      <th>Crime Incidents</th>\n",
       "    </tr>\n",
       "  </thead>\n",
       "  <tbody>\n",
       "    <tr>\n",
       "      <th>0</th>\n",
       "      <td>2013</td>\n",
       "      <td>After Hours</td>\n",
       "      <td>72120</td>\n",
       "    </tr>\n",
       "    <tr>\n",
       "      <th>1</th>\n",
       "      <td>2013</td>\n",
       "      <td>Business Hours</td>\n",
       "      <td>60248</td>\n",
       "    </tr>\n",
       "    <tr>\n",
       "      <th>2</th>\n",
       "      <td>2013</td>\n",
       "      <td>Graveyard Hours</td>\n",
       "      <td>20438</td>\n",
       "    </tr>\n",
       "    <tr>\n",
       "      <th>3</th>\n",
       "      <td>2014</td>\n",
       "      <td>After Hours</td>\n",
       "      <td>72228</td>\n",
       "    </tr>\n",
       "    <tr>\n",
       "      <th>4</th>\n",
       "      <td>2014</td>\n",
       "      <td>Business Hours</td>\n",
       "      <td>58610</td>\n",
       "    </tr>\n",
       "  </tbody>\n",
       "</table>\n",
       "</div>"
      ],
      "text/plain": [
       "   Year       Time Group  Crime Incidents\n",
       "0  2013      After Hours            72120\n",
       "1  2013   Business Hours            60248\n",
       "2  2013  Graveyard Hours            20438\n",
       "3  2014      After Hours            72228\n",
       "4  2014   Business Hours            58610"
      ]
     },
     "execution_count": 186,
     "metadata": {},
     "output_type": "execute_result"
    }
   ],
   "source": [
    "#Create a date frame using the series\n",
    "crime1317_countdf = pd.DataFrame(crime1317_count)\n",
    "# Reset index and rename the 'Year' column\n",
    "crime1317_countdf = crime1317_countdf.rename(columns={\"Time Group\": \"Crime Incidents\"})\n",
    "crime1317_countdf = crime1317_countdf.reset_index()\n",
    "crime1317_countdf.head()"
   ]
  },
  {
   "cell_type": "code",
   "execution_count": 187,
   "metadata": {},
   "outputs": [],
   "source": [
    "# Load CSV for trees 2013-2017\n",
    "trees2013_2017 = pd.read_csv(\"Source CSVs/SF_Trees2013-2017.csv\")\n",
    "# Drop unnamed columns\n",
    "trees2013_2017 = trees2013_2017.loc[:, ~trees2013_2017.columns.str.contains('^Unnamed')]"
   ]
  },
  {
   "cell_type": "code",
   "execution_count": 188,
   "metadata": {},
   "outputs": [
    {
     "data": {
      "text/html": [
       "<div>\n",
       "<style scoped>\n",
       "    .dataframe tbody tr th:only-of-type {\n",
       "        vertical-align: middle;\n",
       "    }\n",
       "\n",
       "    .dataframe tbody tr th {\n",
       "        vertical-align: top;\n",
       "    }\n",
       "\n",
       "    .dataframe thead th {\n",
       "        text-align: right;\n",
       "    }\n",
       "</style>\n",
       "<table border=\"1\" class=\"dataframe\">\n",
       "  <thead>\n",
       "    <tr style=\"text-align: right;\">\n",
       "      <th></th>\n",
       "      <th>Tree ID</th>\n",
       "      <th>Species</th>\n",
       "      <th>Year</th>\n",
       "    </tr>\n",
       "  </thead>\n",
       "  <tbody>\n",
       "    <tr>\n",
       "      <th>0</th>\n",
       "      <td>115737</td>\n",
       "      <td>Acer rubrum :: Red Maple</td>\n",
       "      <td>2016</td>\n",
       "    </tr>\n",
       "    <tr>\n",
       "      <th>1</th>\n",
       "      <td>109770</td>\n",
       "      <td>Olea Majestic Beauty ::</td>\n",
       "      <td>2015</td>\n",
       "    </tr>\n",
       "    <tr>\n",
       "      <th>2</th>\n",
       "      <td>108715</td>\n",
       "      <td>Pittosporum undulatum :: Victorian Box</td>\n",
       "      <td>2016</td>\n",
       "    </tr>\n",
       "    <tr>\n",
       "      <th>3</th>\n",
       "      <td>115538</td>\n",
       "      <td>Crataegus laevigata :: English Hawthorn</td>\n",
       "      <td>2016</td>\n",
       "    </tr>\n",
       "    <tr>\n",
       "      <th>4</th>\n",
       "      <td>115537</td>\n",
       "      <td>Crataegus laevigata :: English Hawthorn</td>\n",
       "      <td>2016</td>\n",
       "    </tr>\n",
       "  </tbody>\n",
       "</table>\n",
       "</div>"
      ],
      "text/plain": [
       "   Tree ID                                  Species  Year\n",
       "0   115737                 Acer rubrum :: Red Maple  2016\n",
       "1   109770                  Olea Majestic Beauty ::  2015\n",
       "2   108715   Pittosporum undulatum :: Victorian Box  2016\n",
       "3   115538  Crataegus laevigata :: English Hawthorn  2016\n",
       "4   115537  Crataegus laevigata :: English Hawthorn  2016"
      ]
     },
     "execution_count": 188,
     "metadata": {},
     "output_type": "execute_result"
    }
   ],
   "source": [
    "# Drop unwanted columns for analysis\n",
    "newTrees2013_2017 = trees2013_2017.drop(columns =['Latitude', 'Longitude'])\n",
    "newTrees2013_2017.head()"
   ]
  },
  {
   "cell_type": "code",
   "execution_count": 189,
   "metadata": {},
   "outputs": [
    {
     "data": {
      "text/plain": [
       "Year\n",
       "2013     791\n",
       "2014    1140\n",
       "2015    1946\n",
       "2016    1654\n",
       "2017    1572\n",
       "Name: Year, dtype: int64"
      ]
     },
     "execution_count": 189,
     "metadata": {},
     "output_type": "execute_result"
    }
   ],
   "source": [
    "# Create a group based on the values in the 'Year' column\n",
    "treeyears1317_group = newTrees2013_2017.groupby('Year')\n",
    "# Count how many trees planted each year\n",
    "tree1317_count = treeyears1317_group['Year'].count()\n",
    "tree1317_count"
   ]
  },
  {
   "cell_type": "code",
   "execution_count": 190,
   "metadata": {},
   "outputs": [
    {
     "data": {
      "text/html": [
       "<div>\n",
       "<style scoped>\n",
       "    .dataframe tbody tr th:only-of-type {\n",
       "        vertical-align: middle;\n",
       "    }\n",
       "\n",
       "    .dataframe tbody tr th {\n",
       "        vertical-align: top;\n",
       "    }\n",
       "\n",
       "    .dataframe thead th {\n",
       "        text-align: right;\n",
       "    }\n",
       "</style>\n",
       "<table border=\"1\" class=\"dataframe\">\n",
       "  <thead>\n",
       "    <tr style=\"text-align: right;\">\n",
       "      <th></th>\n",
       "      <th>Trees Planted</th>\n",
       "    </tr>\n",
       "    <tr>\n",
       "      <th>Year</th>\n",
       "      <th></th>\n",
       "    </tr>\n",
       "  </thead>\n",
       "  <tbody>\n",
       "    <tr>\n",
       "      <th>2013</th>\n",
       "      <td>791</td>\n",
       "    </tr>\n",
       "    <tr>\n",
       "      <th>2014</th>\n",
       "      <td>1140</td>\n",
       "    </tr>\n",
       "    <tr>\n",
       "      <th>2015</th>\n",
       "      <td>1946</td>\n",
       "    </tr>\n",
       "    <tr>\n",
       "      <th>2016</th>\n",
       "      <td>1654</td>\n",
       "    </tr>\n",
       "    <tr>\n",
       "      <th>2017</th>\n",
       "      <td>1572</td>\n",
       "    </tr>\n",
       "  </tbody>\n",
       "</table>\n",
       "</div>"
      ],
      "text/plain": [
       "      Trees Planted\n",
       "Year               \n",
       "2013            791\n",
       "2014           1140\n",
       "2015           1946\n",
       "2016           1654\n",
       "2017           1572"
      ]
     },
     "execution_count": 190,
     "metadata": {},
     "output_type": "execute_result"
    }
   ],
   "source": [
    "# Create a data frame using the series\n",
    "tree1317_countdf = pd.DataFrame(tree1317_count)\n",
    "# Reset index and rename 'Year' column\n",
    "tree1317_countdf = tree1317_countdf.rename(columns={\"Year\": \"Trees Planted\"})\n",
    "#tree1317_countdf = tree1317_countdf.reset_index()\n",
    "tree1317_countdf"
   ]
  },
  {
   "cell_type": "code",
   "execution_count": 191,
   "metadata": {},
   "outputs": [
    {
     "data": {
      "image/png": "[encoded data removed]",
      "text/plain": [
       "<Figure size 432x288 with 1 Axes>"
      ]
     },
     "metadata": {
      "needs_background": "light"
     },
     "output_type": "display_data"
    }
   ],
   "source": [
    "# Configure plot and ticks\n",
    "tree1317_countdf.plot(color=\"red\")\n",
    "\n",
    "# Set textual properties\n",
    "plt.title(\"Number of Trees Planted 2013-2017\")\n",
    "plt.xlabel(\"Year\")\n",
    "plt.ylabel(\"Trees Planted\")\n",
    "plt.savefig(\"Images/TreesPlanted2013-2017.png\")"
   ]
  },
  {
   "cell_type": "code",
   "execution_count": 192,
   "metadata": {},
   "outputs": [
    {
     "data": {
      "text/html": [
       "<div>\n",
       "<style scoped>\n",
       "    .dataframe tbody tr th:only-of-type {\n",
       "        vertical-align: middle;\n",
       "    }\n",
       "\n",
       "    .dataframe tbody tr th {\n",
       "        vertical-align: top;\n",
       "    }\n",
       "\n",
       "    .dataframe thead th {\n",
       "        text-align: right;\n",
       "    }\n",
       "</style>\n",
       "<table border=\"1\" class=\"dataframe\">\n",
       "  <thead>\n",
       "    <tr style=\"text-align: right;\">\n",
       "      <th></th>\n",
       "      <th>Year</th>\n",
       "      <th>Time Group</th>\n",
       "      <th>Crime Incidents</th>\n",
       "      <th>Trees Planted</th>\n",
       "    </tr>\n",
       "  </thead>\n",
       "  <tbody>\n",
       "    <tr>\n",
       "      <th>0</th>\n",
       "      <td>2013</td>\n",
       "      <td>After Hours</td>\n",
       "      <td>72120</td>\n",
       "      <td>791</td>\n",
       "    </tr>\n",
       "    <tr>\n",
       "      <th>1</th>\n",
       "      <td>2013</td>\n",
       "      <td>Business Hours</td>\n",
       "      <td>60248</td>\n",
       "      <td>791</td>\n",
       "    </tr>\n",
       "    <tr>\n",
       "      <th>2</th>\n",
       "      <td>2013</td>\n",
       "      <td>Graveyard Hours</td>\n",
       "      <td>20438</td>\n",
       "      <td>791</td>\n",
       "    </tr>\n",
       "    <tr>\n",
       "      <th>3</th>\n",
       "      <td>2014</td>\n",
       "      <td>After Hours</td>\n",
       "      <td>72228</td>\n",
       "      <td>1140</td>\n",
       "    </tr>\n",
       "    <tr>\n",
       "      <th>4</th>\n",
       "      <td>2014</td>\n",
       "      <td>Business Hours</td>\n",
       "      <td>58610</td>\n",
       "      <td>1140</td>\n",
       "    </tr>\n",
       "  </tbody>\n",
       "</table>\n",
       "</div>"
      ],
      "text/plain": [
       "   Year       Time Group  Crime Incidents  Trees Planted\n",
       "0  2013      After Hours            72120            791\n",
       "1  2013   Business Hours            60248            791\n",
       "2  2013  Graveyard Hours            20438            791\n",
       "3  2014      After Hours            72228           1140\n",
       "4  2014   Business Hours            58610           1140"
      ]
     },
     "execution_count": 192,
     "metadata": {},
     "output_type": "execute_result"
    }
   ],
   "source": [
    "# merge 2013-2017 blocks for crime and trees\n",
    "merged2013_2017 = pd.merge(crime1317_countdf, tree1317_countdf, on='Year', how=\"outer\")\n",
    "merged2013_2017.head()"
   ]
  },
  {
   "cell_type": "code",
   "execution_count": 193,
   "metadata": {},
   "outputs": [
    {
     "data": {
      "text/html": [
       "<div>\n",
       "<style scoped>\n",
       "    .dataframe tbody tr th:only-of-type {\n",
       "        vertical-align: middle;\n",
       "    }\n",
       "\n",
       "    .dataframe tbody tr th {\n",
       "        vertical-align: top;\n",
       "    }\n",
       "\n",
       "    .dataframe thead tr th {\n",
       "        text-align: left;\n",
       "    }\n",
       "\n",
       "    .dataframe thead tr:last-of-type th {\n",
       "        text-align: right;\n",
       "    }\n",
       "</style>\n",
       "<table border=\"1\" class=\"dataframe\">\n",
       "  <thead>\n",
       "    <tr>\n",
       "      <th></th>\n",
       "      <th colspan=\"3\" halign=\"left\">Crime Incidents</th>\n",
       "      <th colspan=\"3\" halign=\"left\">Trees Planted</th>\n",
       "    </tr>\n",
       "    <tr>\n",
       "      <th>Time Group</th>\n",
       "      <th>After Hours</th>\n",
       "      <th>Business Hours</th>\n",
       "      <th>Graveyard Hours</th>\n",
       "      <th>After Hours</th>\n",
       "      <th>Business Hours</th>\n",
       "      <th>Graveyard Hours</th>\n",
       "    </tr>\n",
       "    <tr>\n",
       "      <th>Year</th>\n",
       "      <th></th>\n",
       "      <th></th>\n",
       "      <th></th>\n",
       "      <th></th>\n",
       "      <th></th>\n",
       "      <th></th>\n",
       "    </tr>\n",
       "  </thead>\n",
       "  <tbody>\n",
       "    <tr>\n",
       "      <th>2013</th>\n",
       "      <td>72120</td>\n",
       "      <td>60248</td>\n",
       "      <td>20438</td>\n",
       "      <td>791</td>\n",
       "      <td>791</td>\n",
       "      <td>791</td>\n",
       "    </tr>\n",
       "    <tr>\n",
       "      <th>2014</th>\n",
       "      <td>72228</td>\n",
       "      <td>58610</td>\n",
       "      <td>19290</td>\n",
       "      <td>1140</td>\n",
       "      <td>1140</td>\n",
       "      <td>1140</td>\n",
       "    </tr>\n",
       "    <tr>\n",
       "      <th>2015</th>\n",
       "      <td>75250</td>\n",
       "      <td>61088</td>\n",
       "      <td>20188</td>\n",
       "      <td>1946</td>\n",
       "      <td>1946</td>\n",
       "      <td>1946</td>\n",
       "    </tr>\n",
       "    <tr>\n",
       "      <th>2016</th>\n",
       "      <td>69984</td>\n",
       "      <td>60182</td>\n",
       "      <td>20716</td>\n",
       "      <td>1654</td>\n",
       "      <td>1654</td>\n",
       "      <td>1654</td>\n",
       "    </tr>\n",
       "    <tr>\n",
       "      <th>2017</th>\n",
       "      <td>72457</td>\n",
       "      <td>62251</td>\n",
       "      <td>20065</td>\n",
       "      <td>1572</td>\n",
       "      <td>1572</td>\n",
       "      <td>1572</td>\n",
       "    </tr>\n",
       "  </tbody>\n",
       "</table>\n",
       "</div>"
      ],
      "text/plain": [
       "           Crime Incidents                                Trees Planted  \\\n",
       "Time Group     After Hours Business Hours Graveyard Hours   After Hours   \n",
       "Year                                                                      \n",
       "2013                 72120          60248           20438           791   \n",
       "2014                 72228          58610           19290          1140   \n",
       "2015                 75250          61088           20188          1946   \n",
       "2016                 69984          60182           20716          1654   \n",
       "2017                 72457          62251           20065          1572   \n",
       "\n",
       "                                           \n",
       "Time Group Business Hours Graveyard Hours  \n",
       "Year                                       \n",
       "2013                  791             791  \n",
       "2014                 1140            1140  \n",
       "2015                 1946            1946  \n",
       "2016                 1654            1654  \n",
       "2017                 1572            1572  "
      ]
     },
     "execution_count": 193,
     "metadata": {},
     "output_type": "execute_result"
    }
   ],
   "source": [
    "mungeCrime2013_2017 = merged2013_2017.pivot(index ='Year', columns ='Time Group', values=['Crime Incidents', \"Trees Planted\"])\n",
    "mungeCrime2013_2017"
   ]
  },
  {
   "cell_type": "code",
   "execution_count": 194,
   "metadata": {},
   "outputs": [
    {
     "data": {
      "image/png": "[encoded data removed]",
      "text/plain": [
       "<Figure size 432x288 with 1 Axes>"
      ]
     },
     "metadata": {
      "needs_background": "light"
     },
     "output_type": "display_data"
    }
   ],
   "source": [
    "mungeCrime2013_2017[\"Crime Incidents\"][[\"After Hours\", \"Business Hours\", \"Graveyard Hours\"]].plot(kind='bar', width=.75)\n",
    "\n",
    "# Set textual properties\n",
    "plt.legend(loc=\"best\")\n",
    "\n",
    "plt.tight_layout()\n",
    "plt.xlim(-1, 7)\n",
    "plt.title(\"Crime Rate By Time of Day 2013-2017\")\n",
    "plt.xlabel(\"Year\")\n",
    "plt.ylabel(\"Crime Incidents\")\n",
    "plt.savefig(\"Images/TimeGroupCrime2013-2017.png\")"
   ]
  },
  {
   "cell_type": "code",
   "execution_count": null,
   "metadata": {},
   "outputs": [],
   "source": []
  }
 ],
 "metadata": {
  "anaconda-cloud": {},
  "kernel_info": {
   "name": "python3"
  },
  "kernelspec": {
   "display_name": "PythonData",
   "language": "python",
   "name": "pythondata"
  },
  "language_info": {
   "codemirror_mode": {
    "name": "ipython",
    "version": 3
   },
   "file_extension": ".py",
   "mimetype": "text/x-python",
   "name": "python",
   "nbconvert_exporter": "python",
   "pygments_lexer": "ipython3",
   "version": "3.7.4"
  },
  "latex_envs": {
   "LaTeX_envs_menu_present": true,
   "autoclose": false,
   "autocomplete": true,
   "bibliofile": "biblio.bib",
   "cite_by": "apalike",
   "current_citInitial": 1,
   "eqLabelWithNumbers": true,
   "eqNumInitial": 1,
   "hotkeys": {
    "equation": "Ctrl-E",
    "itemize": "Ctrl-I"
   },
   "labels_anchors": false,
   "latex_user_defs": false,
   "report_style_numbering": false,
   "user_envs_cfg": false
  },
  "nteract": {
   "version": "0.12.3"
  }
 },
 "nbformat": 4,
 "nbformat_minor": 2
}
