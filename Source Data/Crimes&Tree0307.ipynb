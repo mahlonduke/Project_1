{
 "cells": [
  {
   "cell_type": "markdown",
   "metadata": {},
   "source": [
    "# Practice Plots\n",
    "----"
   ]
  },
  {
   "cell_type": "code",
   "execution_count": 1,
   "metadata": {},
   "outputs": [],
   "source": [
    "# Dependencies\n",
    "import pandas as pd\n",
    "import numpy as np\n",
    "import matplotlib.pyplot as plt\n"
   ]
  },
  {
   "cell_type": "code",
   "execution_count": 2,
   "metadata": {
    "scrolled": true
   },
   "outputs": [],
   "source": [
    "# load CSVs for data from 2003-2007\n",
    "crime0307 = pd.read_csv(\"Source CSVs/Crime2003-2007.csv\")\n",
    "crime0307 = crime0307.loc[:, ~crime0307.columns.str.contains('^Unnamed')]\n"
   ]
  },
  {
   "cell_type": "code",
   "execution_count": 3,
   "metadata": {
    "scrolled": false
   },
   "outputs": [
    {
     "data": {
      "text/html": [
       "<div>\n",
       "<style scoped>\n",
       "    .dataframe tbody tr th:only-of-type {\n",
       "        vertical-align: middle;\n",
       "    }\n",
       "\n",
       "    .dataframe tbody tr th {\n",
       "        vertical-align: top;\n",
       "    }\n",
       "\n",
       "    .dataframe thead th {\n",
       "        text-align: right;\n",
       "    }\n",
       "</style>\n",
       "<table border=\"1\" class=\"dataframe\">\n",
       "  <thead>\n",
       "    <tr style=\"text-align: right;\">\n",
       "      <th></th>\n",
       "      <th>Incident ID</th>\n",
       "      <th>Category</th>\n",
       "      <th>Year</th>\n",
       "    </tr>\n",
       "  </thead>\n",
       "  <tbody>\n",
       "    <tr>\n",
       "      <th>0</th>\n",
       "      <td>91192460</td>\n",
       "      <td>FORGERY/COUNTERFEITING</td>\n",
       "      <td>2007</td>\n",
       "    </tr>\n",
       "    <tr>\n",
       "      <th>1</th>\n",
       "      <td>80000177</td>\n",
       "      <td>WEAPON LAWS</td>\n",
       "      <td>2007</td>\n",
       "    </tr>\n",
       "    <tr>\n",
       "      <th>2</th>\n",
       "      <td>80000058</td>\n",
       "      <td>WARRANTS</td>\n",
       "      <td>2007</td>\n",
       "    </tr>\n",
       "    <tr>\n",
       "      <th>3</th>\n",
       "      <td>80000111</td>\n",
       "      <td>ASSAULT</td>\n",
       "      <td>2007</td>\n",
       "    </tr>\n",
       "    <tr>\n",
       "      <th>4</th>\n",
       "      <td>80000111</td>\n",
       "      <td>OTHER OFFENSES</td>\n",
       "      <td>2007</td>\n",
       "    </tr>\n",
       "  </tbody>\n",
       "</table>\n",
       "</div>"
      ],
      "text/plain": [
       "   Incident ID                Category  Year\n",
       "0     91192460  FORGERY/COUNTERFEITING  2007\n",
       "1     80000177             WEAPON LAWS  2007\n",
       "2     80000058                WARRANTS  2007\n",
       "3     80000111                 ASSAULT  2007\n",
       "4     80000111          OTHER OFFENSES  2007"
      ]
     },
     "execution_count": 3,
     "metadata": {},
     "output_type": "execute_result"
    }
   ],
   "source": [
    "#Dropped colums in dataframe\n",
    "crime_data0307 = crime0307.drop(columns =['Description', 'Longitude', 'Latitude', 'Day', 'Time', 'District',])\n",
    "crime_data0307.head()"
   ]
  },
  {
   "cell_type": "code",
   "execution_count": 4,
   "metadata": {
    "scrolled": true
   },
   "outputs": [
    {
     "data": {
      "text/plain": [
       "Year  Category  \n",
       "2003  ARSON           285\n",
       "      ASSAULT       12971\n",
       "      BAD CHECKS      128\n",
       "      BRIBERY          26\n",
       "      BURGLARY       5849\n",
       "Name: Category, dtype: int64"
      ]
     },
     "execution_count": 4,
     "metadata": {},
     "output_type": "execute_result"
    }
   ],
   "source": [
    "#Group by category\n",
    "crimeyears0307_group = crime_data0307.groupby(['Year', 'Category'])\n",
    "# Count how many times each category appears in our group\n",
    "crime_data0307_count = crimeyears0307_group['Category'].count()\n",
    "crime_data0307_count.head()"
   ]
  },
  {
   "cell_type": "code",
   "execution_count": null,
   "metadata": {},
   "outputs": [],
   "source": []
  },
  {
   "cell_type": "code",
   "execution_count": 5,
   "metadata": {},
   "outputs": [
    {
     "data": {
      "text/html": [
       "<div>\n",
       "<style scoped>\n",
       "    .dataframe tbody tr th:only-of-type {\n",
       "        vertical-align: middle;\n",
       "    }\n",
       "\n",
       "    .dataframe tbody tr th {\n",
       "        vertical-align: top;\n",
       "    }\n",
       "\n",
       "    .dataframe thead th {\n",
       "        text-align: right;\n",
       "    }\n",
       "</style>\n",
       "<table border=\"1\" class=\"dataframe\">\n",
       "  <thead>\n",
       "    <tr style=\"text-align: right;\">\n",
       "      <th></th>\n",
       "      <th>Year</th>\n",
       "      <th>Category</th>\n",
       "      <th>Crime Count</th>\n",
       "    </tr>\n",
       "  </thead>\n",
       "  <tbody>\n",
       "    <tr>\n",
       "      <th>0</th>\n",
       "      <td>2003</td>\n",
       "      <td>ARSON</td>\n",
       "      <td>285</td>\n",
       "    </tr>\n",
       "    <tr>\n",
       "      <th>1</th>\n",
       "      <td>2003</td>\n",
       "      <td>ASSAULT</td>\n",
       "      <td>12971</td>\n",
       "    </tr>\n",
       "    <tr>\n",
       "      <th>2</th>\n",
       "      <td>2003</td>\n",
       "      <td>BAD CHECKS</td>\n",
       "      <td>128</td>\n",
       "    </tr>\n",
       "    <tr>\n",
       "      <th>3</th>\n",
       "      <td>2003</td>\n",
       "      <td>BRIBERY</td>\n",
       "      <td>26</td>\n",
       "    </tr>\n",
       "    <tr>\n",
       "      <th>4</th>\n",
       "      <td>2003</td>\n",
       "      <td>BURGLARY</td>\n",
       "      <td>5849</td>\n",
       "    </tr>\n",
       "  </tbody>\n",
       "</table>\n",
       "</div>"
      ],
      "text/plain": [
       "   Year    Category  Crime Count\n",
       "0  2003       ARSON          285\n",
       "1  2003     ASSAULT        12971\n",
       "2  2003  BAD CHECKS          128\n",
       "3  2003     BRIBERY           26\n",
       "4  2003    BURGLARY         5849"
      ]
     },
     "execution_count": 5,
     "metadata": {},
     "output_type": "execute_result"
    }
   ],
   "source": [
    "crime_df0307 = pd.DataFrame(crime_data0307_count)\n",
    "crime_df0307 = crime_df0307.rename(columns= {\"Category\": \"Crime Count\"})\n",
    "crime_df0307 = crime_df0307.reset_index()\n",
    "crime_df0307.head()"
   ]
  },
  {
   "cell_type": "code",
   "execution_count": 6,
   "metadata": {
    "scrolled": true
   },
   "outputs": [],
   "source": [
    "# violent non violent and property\n",
    "crimeCategories = []\n",
    "data = {}\n",
    "categories = list(crime_df0307[\"Category\"])\n",
    "crime_count = list(crime_df0307[\"Crime Count\"])\n",
    "year = list(crime_df0307[\"Year\"])\n",
    "\n",
    "for index in range(len(categories)):\n",
    "    # violent crimes\n",
    "    if(categories[index] == \"ARSON\" \n",
    "       or categories[index] == \"RUNAWAY\" \n",
    "       or categories[index] == \"ASSAULT\" \n",
    "       or categories[index] == \"FAMILY OFFENSES\"\n",
    "       or categories[index] == \"SEX OFFENSES, FORCIBLE\" \n",
    "       or categories[index] == 'SUICIDE'\n",
    "       or categories[index] == 'WEAPON LAWS'\n",
    "       or categories[index] ==\"ROBBERY\"):\n",
    "        data = { \"Category\" : categories[index], \"Crime Count\" : crime_count[index], \"Crime Category\": \"Violent Crime\", \"Year\": year[index] }\n",
    "    #Nonviolent crimes\n",
    "    elif(categories[index] == \"BAD CHECKS\" \n",
    "         or categories[index] == \"RUNAWAY\"\n",
    "         or categories[index] =='BRIBERY'\n",
    "         or categories[index] =='DISORDERLY CONDUCT'\n",
    "         or categories[index] == 'DRIVING UNDER THE INFLUENCE'\n",
    "         or categories[index] == 'DRUG/NARCOTIC'\n",
    "         or categories[index] == 'DRUNKENNESS'\n",
    "         or categories[index] =='EMBEZZLEMENT'\n",
    "         or categories[index] =='EXTORTION'\n",
    "         or categories[index] =='FORGERY/COUNTERFEITING'\n",
    "         or categories[index] =='FRAUD'\n",
    "         or categories[index] =='GAMBLING'\n",
    "         or categories[index] =='KIDNAPPING'\n",
    "         or categories[index] =='LIQUOR LAWS'\n",
    "         or categories[index] =='LOITERING'\n",
    "         or categories[index] =='MISSING PERSON'\n",
    "         or categories[index] =='NON-CRIMINAL'\n",
    "         or categories[index] =='OTHER OFFENSES'\n",
    "         or categories[index] =='PORNOGRAPHY/OBSCENE MAT'\n",
    "         or categories[index] =='PROSTITUTION'\n",
    "         or categories[index] =='RECOVERED VEHICLE'\n",
    "         or categories[index] =='SECONDARY CODES'\n",
    "         or categories[index] =='SEX OFFENSES, NON FORCIBLE'\n",
    "         or categories[index] =='SUSPICIOUS OCC'\n",
    "         or categories[index] =='TRESPASS'\n",
    "         or categories[index] =='VANDALISM'\n",
    "         or categories[index] =='WARRANTS'):\n",
    "         data = { \"Category\" : categories[index], \"Crime Count\" : crime_count[index], \"Crime Category\": \"Non Violent Crime\", \"Year\": year[index]  }\n",
    "    #Property Theift\n",
    "    elif(categories[index] ==\"BURGLARY\" \n",
    "         or categories[index] =='LARCENY/THEFT'\n",
    "         or categories[index] =='STOLEN PROPERTY'\n",
    "         or categories[index] =='VEHICLE THEFT'):\n",
    "         data = { \"Category\" : categories[index], \"Crime Count\" : crime_count[index], \"Crime Category\": \"Property Theft\", \"Year\": year[index] }\n",
    "    else:\n",
    "        data = { \"Category\" : categories[index], \"Crime Count\" : crime_count[index], \"Crime Category\": None, \"Year\": year[index] }\n",
    "        \n",
    "    crimeCategories.append(data) \n",
    "\n",
    "crime_df = pd.DataFrame(crimeCategories)"
   ]
  },
  {
   "cell_type": "code",
   "execution_count": 7,
   "metadata": {
    "scrolled": false
   },
   "outputs": [
    {
     "data": {
      "text/html": [
       "<div>\n",
       "<style scoped>\n",
       "    .dataframe tbody tr th:only-of-type {\n",
       "        vertical-align: middle;\n",
       "    }\n",
       "\n",
       "    .dataframe tbody tr th {\n",
       "        vertical-align: top;\n",
       "    }\n",
       "\n",
       "    .dataframe thead th {\n",
       "        text-align: right;\n",
       "    }\n",
       "</style>\n",
       "<table border=\"1\" class=\"dataframe\">\n",
       "  <thead>\n",
       "    <tr style=\"text-align: right;\">\n",
       "      <th></th>\n",
       "      <th></th>\n",
       "      <th>Category</th>\n",
       "      <th>Crime Count</th>\n",
       "    </tr>\n",
       "    <tr>\n",
       "      <th>Crime Category</th>\n",
       "      <th>Year</th>\n",
       "      <th></th>\n",
       "      <th></th>\n",
       "    </tr>\n",
       "  </thead>\n",
       "  <tbody>\n",
       "    <tr>\n",
       "      <th rowspan=\"5\" valign=\"top\">Non Violent Crime</th>\n",
       "      <th>2003</th>\n",
       "      <td>BAD CHECKS</td>\n",
       "      <td>128</td>\n",
       "    </tr>\n",
       "    <tr>\n",
       "      <th>2004</th>\n",
       "      <td>BAD CHECKS</td>\n",
       "      <td>79</td>\n",
       "    </tr>\n",
       "    <tr>\n",
       "      <th>2005</th>\n",
       "      <td>BAD CHECKS</td>\n",
       "      <td>101</td>\n",
       "    </tr>\n",
       "    <tr>\n",
       "      <th>2006</th>\n",
       "      <td>BAD CHECKS</td>\n",
       "      <td>87</td>\n",
       "    </tr>\n",
       "    <tr>\n",
       "      <th>2007</th>\n",
       "      <td>BAD CHECKS</td>\n",
       "      <td>69</td>\n",
       "    </tr>\n",
       "  </tbody>\n",
       "</table>\n",
       "</div>"
      ],
      "text/plain": [
       "                          Category  Crime Count\n",
       "Crime Category    Year                         \n",
       "Non Violent Crime 2003  BAD CHECKS          128\n",
       "                  2004  BAD CHECKS           79\n",
       "                  2005  BAD CHECKS          101\n",
       "                  2006  BAD CHECKS           87\n",
       "                  2007  BAD CHECKS           69"
      ]
     },
     "execution_count": 7,
     "metadata": {},
     "output_type": "execute_result"
    }
   ],
   "source": [
    "crimeGroup_df = crime_df.groupby(['Crime Category', 'Year']).first()\n",
    "crimeGroup_df.head()"
   ]
  },
  {
   "cell_type": "code",
   "execution_count": 8,
   "metadata": {
    "scrolled": true
   },
   "outputs": [
    {
     "data": {
      "text/html": [
       "<div>\n",
       "<style scoped>\n",
       "    .dataframe tbody tr th:only-of-type {\n",
       "        vertical-align: middle;\n",
       "    }\n",
       "\n",
       "    .dataframe tbody tr th {\n",
       "        vertical-align: top;\n",
       "    }\n",
       "\n",
       "    .dataframe thead th {\n",
       "        text-align: right;\n",
       "    }\n",
       "</style>\n",
       "<table border=\"1\" class=\"dataframe\">\n",
       "  <thead>\n",
       "    <tr style=\"text-align: right;\">\n",
       "      <th></th>\n",
       "      <th>Crime Category</th>\n",
       "      <th>Year</th>\n",
       "      <th>Category</th>\n",
       "      <th>Crime Count</th>\n",
       "    </tr>\n",
       "  </thead>\n",
       "  <tbody>\n",
       "    <tr>\n",
       "      <th>0</th>\n",
       "      <td>Non Violent Crime</td>\n",
       "      <td>2003</td>\n",
       "      <td>BAD CHECKS</td>\n",
       "      <td>128</td>\n",
       "    </tr>\n",
       "    <tr>\n",
       "      <th>1</th>\n",
       "      <td>Non Violent Crime</td>\n",
       "      <td>2004</td>\n",
       "      <td>BAD CHECKS</td>\n",
       "      <td>79</td>\n",
       "    </tr>\n",
       "    <tr>\n",
       "      <th>2</th>\n",
       "      <td>Non Violent Crime</td>\n",
       "      <td>2005</td>\n",
       "      <td>BAD CHECKS</td>\n",
       "      <td>101</td>\n",
       "    </tr>\n",
       "    <tr>\n",
       "      <th>3</th>\n",
       "      <td>Non Violent Crime</td>\n",
       "      <td>2006</td>\n",
       "      <td>BAD CHECKS</td>\n",
       "      <td>87</td>\n",
       "    </tr>\n",
       "    <tr>\n",
       "      <th>4</th>\n",
       "      <td>Non Violent Crime</td>\n",
       "      <td>2007</td>\n",
       "      <td>BAD CHECKS</td>\n",
       "      <td>69</td>\n",
       "    </tr>\n",
       "  </tbody>\n",
       "</table>\n",
       "</div>"
      ],
      "text/plain": [
       "      Crime Category  Year    Category  Crime Count\n",
       "0  Non Violent Crime  2003  BAD CHECKS          128\n",
       "1  Non Violent Crime  2004  BAD CHECKS           79\n",
       "2  Non Violent Crime  2005  BAD CHECKS          101\n",
       "3  Non Violent Crime  2006  BAD CHECKS           87\n",
       "4  Non Violent Crime  2007  BAD CHECKS           69"
      ]
     },
     "execution_count": 8,
     "metadata": {},
     "output_type": "execute_result"
    }
   ],
   "source": [
    "crimeGroup_df = crimeGroup_df.reset_index()\n",
    "crimeGroup_df.head()"
   ]
  },
  {
   "cell_type": "code",
   "execution_count": 9,
   "metadata": {},
   "outputs": [
    {
     "data": {
      "text/html": [
       "<div>\n",
       "<style scoped>\n",
       "    .dataframe tbody tr th:only-of-type {\n",
       "        vertical-align: middle;\n",
       "    }\n",
       "\n",
       "    .dataframe tbody tr th {\n",
       "        vertical-align: top;\n",
       "    }\n",
       "\n",
       "    .dataframe thead tr th {\n",
       "        text-align: left;\n",
       "    }\n",
       "\n",
       "    .dataframe thead tr:last-of-type th {\n",
       "        text-align: right;\n",
       "    }\n",
       "</style>\n",
       "<table border=\"1\" class=\"dataframe\">\n",
       "  <thead>\n",
       "    <tr>\n",
       "      <th></th>\n",
       "      <th colspan=\"3\" halign=\"left\">Crime Count</th>\n",
       "    </tr>\n",
       "    <tr>\n",
       "      <th>Crime Category</th>\n",
       "      <th>Non Violent Crime</th>\n",
       "      <th>Property Theft</th>\n",
       "      <th>Violent Crime</th>\n",
       "    </tr>\n",
       "    <tr>\n",
       "      <th>Year</th>\n",
       "      <th></th>\n",
       "      <th></th>\n",
       "      <th></th>\n",
       "    </tr>\n",
       "  </thead>\n",
       "  <tbody>\n",
       "    <tr>\n",
       "      <th>2003</th>\n",
       "      <td>128</td>\n",
       "      <td>5849</td>\n",
       "      <td>285</td>\n",
       "    </tr>\n",
       "    <tr>\n",
       "      <th>2004</th>\n",
       "      <td>79</td>\n",
       "      <td>6753</td>\n",
       "      <td>280</td>\n",
       "    </tr>\n",
       "    <tr>\n",
       "      <th>2005</th>\n",
       "      <td>101</td>\n",
       "      <td>7071</td>\n",
       "      <td>231</td>\n",
       "    </tr>\n",
       "    <tr>\n",
       "      <th>2006</th>\n",
       "      <td>87</td>\n",
       "      <td>7004</td>\n",
       "      <td>240</td>\n",
       "    </tr>\n",
       "    <tr>\n",
       "      <th>2007</th>\n",
       "      <td>69</td>\n",
       "      <td>5454</td>\n",
       "      <td>246</td>\n",
       "    </tr>\n",
       "  </tbody>\n",
       "</table>\n",
       "</div>"
      ],
      "text/plain": [
       "                     Crime Count                             \n",
       "Crime Category Non Violent Crime Property Theft Violent Crime\n",
       "Year                                                         \n",
       "2003                         128           5849           285\n",
       "2004                          79           6753           280\n",
       "2005                         101           7071           231\n",
       "2006                          87           7004           240\n",
       "2007                          69           5454           246"
      ]
     },
     "execution_count": 9,
     "metadata": {},
     "output_type": "execute_result"
    }
   ],
   "source": [
    "mungeCrime_df = crimeGroup_df.pivot(index ='Year', columns ='Crime Category', values=['Crime Count'])\n",
    "mungeCrime_df"
   ]
  },
  {
   "cell_type": "code",
   "execution_count": 10,
   "metadata": {},
   "outputs": [
    {
     "data": {
      "image/png": "[encoded data removed]",
      "text/plain": [
       "<Figure size 432x288 with 1 Axes>"
      ]
     },
     "metadata": {
      "needs_background": "light"
     },
     "output_type": "display_data"
    }
   ],
   "source": [
    "mungeCrime_df['Crime Count'][[\"Non Violent Crime\", \"Violent Crime\", \"Property Theft\"]].plot(kind='bar', width=.95)\n",
    "\n",
    "# Set textual properties\n",
    "plt.legend(loc=\"best\")\n",
    "\n",
    "plt.tight_layout()\n",
    "plt.xlim(-1, 7)\n",
    "plt.title(\"Crime Rate By Category 2003-2007\")\n",
    "plt.xlabel(\"Year\")\n",
    "plt.ylabel(\"Crime Incidents\")\n",
    "plt.savefig(\"Images/CrimeCategory2003-2007.png\")"
   ]
  },
  {
   "cell_type": "code",
   "execution_count": null,
   "metadata": {},
   "outputs": [],
   "source": []
  }
 ],
 "metadata": {
  "anaconda-cloud": {},
  "kernel_info": {
   "name": "python3"
  },
  "kernelspec": {
   "display_name": "PythonData",
   "language": "python",
   "name": "pythondata"
  },
  "language_info": {
   "codemirror_mode": {
    "name": "ipython",
    "version": 3
   },
   "file_extension": ".py",
   "mimetype": "text/x-python",
   "name": "python",
   "nbconvert_exporter": "python",
   "pygments_lexer": "ipython3",
   "version": "3.7.4"
  },
  "latex_envs": {
   "LaTeX_envs_menu_present": true,
   "autoclose": false,
   "autocomplete": true,
   "bibliofile": "biblio.bib",
   "cite_by": "apalike",
   "current_citInitial": 1,
   "eqLabelWithNumbers": true,
   "eqNumInitial": 1,
   "hotkeys": {
    "equation": "Ctrl-E",
    "itemize": "Ctrl-I"
   },
   "labels_anchors": false,
   "latex_user_defs": false,
   "report_style_numbering": false,
   "user_envs_cfg": false
  },
  "nteract": {
   "version": "0.12.3"
  }
 },
 "nbformat": 4,
 "nbformat_minor": 2
}
